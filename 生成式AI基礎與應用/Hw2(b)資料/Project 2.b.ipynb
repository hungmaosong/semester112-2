{
  "cells": [
    {
      "cell_type": "markdown",
      "metadata": {
        "id": "qEjfoWqvxgn1"
      },
      "source": [
        "# T5 英文文本生成\n",
        "## 教學目標\n",
        "使用T5模型根據英文關鍵字生成完整的句子\n",
        "\n",
        "## 適用對象\n",
        " - 已對python的基本語法和有一定瞭解和掌握程度\n",
        " - 對深度學習的基本概念有初步的認識\n",
        "\n",
        "## 執行方法\n",
        "在 Jupyter notebook 中，選取想要執行的區塊後，使用以下其中一種方法執行\n",
        " - 上方工具列中，按下 Cell < Run Cells 執行\n",
        " - 使用快捷鍵 Shift + Enter 執行\n",
        "\n",
        "## 大綱\n",
        " - [安裝套件](#安裝套件)\n",
        " - [載入T5模型](#載入T5模型)\n",
        " - [資料處理](#資料處理)\n",
        " - [超參數](#超參數)\n",
        " - [訓練](#訓練)\n",
        " - [驗證](#驗證)\n"
      ]
    },
    {
      "cell_type": "markdown",
      "metadata": {
        "id": "xGHejOlhxgn2"
      },
      "source": [
        "## 安裝套件\n",
        " - transformers (4.37.0) huggingface讀取模型的套件\n",
        " - datasets (2.16.1) huggingface讀取資料集的套件\n",
        " - torcheval (0.0.7) 各種評價標準"
      ]
    },
    {
      "cell_type": "code",
      "execution_count": null,
      "metadata": {
        "id": "bANlfRj8xgn2"
      },
      "outputs": [],
      "source": [
        "! pip install transformers\n",
        "! pip install datasets\n",
        "! pip install torcheval\n",
        "! pip install pytorch-ignite"
      ]
    },
    {
      "cell_type": "code",
      "execution_count": null,
      "metadata": {
        "id": "fmaIzlYkxgn3"
      },
      "outputs": [],
      "source": [
        "import transformers as T\n",
        "from datasets import load_dataset\n",
        "import torch\n",
        "from torch.utils.data import Dataset, DataLoader\n",
        "from torch.optim import AdamW\n",
        "from tqdm import tqdm\n",
        "# from ignite.metrics import Rouge\n",
        "import re\n",
        "device = \"cuda\" if torch.cuda.is_available() else \"cpu\""
      ]
    },
    {
      "cell_type": "markdown",
      "metadata": {
        "id": "YwfsJbvyxgn3"
      },
      "source": [
        "## 載入T5模型\n",
        " - 使用huggingface裝載模型的架構、參數和tokenizer\n",
        " - 保存在路徑./cache/中\n",
        " - 用.to(device)把模型裝載入訓練設備(GPU)"
      ]
    },
    {
      "cell_type": "code",
      "execution_count": null,
      "metadata": {
        "id": "978amJhFxgn3"
      },
      "outputs": [],
      "source": [
        "t5_model = T.T5ForConditionalGeneration.from_pretrained(\"google/flan-t5-base\", cache_dir=\"./cache/\").to(device)\n",
        "t5_tokenizer = T.T5Tokenizer.from_pretrained(\"google/flan-t5-base\", cache_dir=\"./cache/\")"
      ]
    },
    {
      "cell_type": "markdown",
      "metadata": {
        "id": "ARnj-n9Kxgn3"
      },
      "source": [
        "## 資料處理\n",
        " - 使用 torch.utils.data 中的 Dataset 和 Dataloader 成批次地讀取和預處理資料\n",
        " - 使用“/”將每個輸入的關鍵字和每個輸出鏈接起來"
      ]
    },
    {
      "cell_type": "code",
      "execution_count": null,
      "metadata": {
        "id": "aHXXUKHRxgn3"
      },
      "outputs": [],
      "source": [
        "def get_tensor(sample):\n",
        "    # 將模型的輸入和ground truth打包成Tensor\n",
        "    model_inputs = t5_tokenizer.batch_encode_plus([each[\"concepts\"] for each in sample], padding=True, truncation=True, return_tensors=\"pt\")\n",
        "    model_outputs = t5_tokenizer.batch_encode_plus([each[\"targets\"] for each in sample], padding=True, truncation=True, return_tensors=\"pt\")\n",
        "    return model_inputs[\"input_ids\"].to(device), model_outputs[\"input_ids\"].to(device)\n",
        "\n",
        "class CommonGenDataset(Dataset):\n",
        "    def __init__(self, split=\"train\") -> None:\n",
        "        super().__init__()\n",
        "        assert split in [\"train\", \"validation\", \"test\"]\n",
        "        data_df = load_dataset(\"allenai/common_gen\", split=split, cache_dir=\"./cache/\").to_pandas().groupby(\"concept_set_idx\")\n",
        "        self.data = []\n",
        "        for each in data_df:\n",
        "            targets = \"/ \".join([s+\".\" if not s.endswith(\".\") else s for s in each[1].target.to_list()])\n",
        "            concepts = \", \".join(each[1].concepts.to_list()[0])\n",
        "            self.data.append({\"concepts\": concepts, \"targets\": targets})\n",
        "\n",
        "    def __getitem__(self, index):\n",
        "        return self.data[index]\n",
        "\n",
        "    def __len__(self):\n",
        "        return len(self.data)\n",
        "\n",
        "data_sample = CommonGenDataset(split=\"train\").data[:3]\n",
        "print(f\"Dataset example: \\n{data_sample[0]} \\n{data_sample[1]} \\n{data_sample[2]}\")"
      ]
    },
    {
      "cell_type": "markdown",
      "metadata": {
        "id": "kobvz1xgxgn3"
      },
      "source": [
        "## 超參數\n",
        " - 學習率 (learning rate): 1e-5\n",
        " - 訓練輪數 (epochs): 3\n",
        " - 優化器 (optimizer): AdamW\n",
        " - 批次大小 (batch size): 8\n",
        " - 評量指標 (evaluation matrics)Rouge-2"
      ]
    },
    {
      "cell_type": "code",
      "execution_count": null,
      "metadata": {
        "id": "dWTegnXXxgn3"
      },
      "outputs": [],
      "source": [
        "lr = 1e-5\n",
        "epochs = 1\n",
        "optimizer = AdamW(t5_model.parameters(), lr = 1e-5)\n",
        "train_batch_size = 8\n",
        "validation_batch_size = 8\n",
        "common_gen_train = DataLoader(CommonGenDataset(split=\"train\"), collate_fn=get_tensor, batch_size=train_batch_size, shuffle=True)\n",
        "common_gen_validation = DataLoader(CommonGenDataset(split=\"validation\"), collate_fn=get_tensor, batch_size=validation_batch_size, shuffle=False)\n",
        "rouge = Rouge(variants=[\"L\", 2], multiref=\"best\")"
      ]
    },
    {
      "cell_type": "markdown",
      "metadata": {
        "id": "vP0ZFCSvxgn4"
      },
      "source": [
        "## 驗證\n",
        "驗證程式\n",
        " - 將驗證資料輸入模型，用Rouge-2評價輸出的效果\n",
        " - Rouge的使用方法參考 https://pytorch.org/ignite/generated/ignite.metrics.Rouge.html"
      ]
    },
    {
      "cell_type": "code",
      "execution_count": null,
      "metadata": {
        "id": "AyaTmD-Hxgn4"
      },
      "outputs": [],
      "source": [
        "def evaluate(model):\n",
        "    pbar = tqdm(common_gen_validation)\n",
        "    pbar.set_description(f\"Evaluating\")\n",
        "\n",
        "    for inputs, targets in pbar:\n",
        "        output = [re.split(r\"[/]\", each.replace(\"<pad>\", \"\")) for each in t5_tokenizer.batch_decode(model.generate(inputs, max_length=50))]\n",
        "        targets = [re.split(r\"[/]\", each.replace(\"<pad>\", \"\")) for each in t5_tokenizer.batch_decode(targets)]\n",
        "        for i in range(len(output)):\n",
        "            sentences = [s.replace('.', ' .').split() for s in output[i]]\n",
        "            ground_thruths = [t.replace('.', ' .').split() for t in targets[i]]\n",
        "            for s in sentences:\n",
        "                rouge.update(([s], [ground_thruths]))\n",
        "    return rouge.compute()\n"
      ]
    },
    {
      "cell_type": "markdown",
      "metadata": {
        "id": "jGZgD2IBxgn4"
      },
      "source": [
        "## 訓練\n",
        " - 將資料成批次輸入T5模型，並獲取其損失函數數值，隨後計算梯度優化\n",
        " - tqdm用來顯示模型的訓練進度"
      ]
    },
    {
      "cell_type": "code",
      "execution_count": null,
      "metadata": {
        "id": "MjPwHOCmxgn4"
      },
      "outputs": [],
      "source": [
        "for ep in range(epochs):\n",
        "    pbar = tqdm(common_gen_train)\n",
        "    pbar.set_description(f\"Training epoch [{ep+1}/{epochs}]\")\n",
        "    for inputs, targets in pbar:\n",
        "        optimizer.zero_grad()\n",
        "        loss = t5_model(input_ids=inputs, labels=targets).loss\n",
        "        loss.backward()\n",
        "        optimizer.step()\n",
        "        pbar.set_postfix(loss = loss.item())\n",
        "    torch.save(t5_model, f'./saved_models/ep{ep}.mod')\n",
        "    print(f\"Rouge-2 score on epoch {ep}:\", evaluate(t5_model))"
      ]
    }
  ],
  "metadata": {
    "accelerator": "GPU",
    "colab": {
      "gpuType": "T4",
      "provenance": []
    },
    "kernelspec": {
      "display_name": "Python 3",
      "name": "python3"
    },
    "language_info": {
      "codemirror_mode": {
        "name": "ipython",
        "version": 3
      },
      "file_extension": ".py",
      "mimetype": "text/x-python",
      "name": "python",
      "nbconvert_exporter": "python",
      "pygments_lexer": "ipython3",
      "version": "3.9.18"
    }
  },
  "nbformat": 4,
  "nbformat_minor": 0
}
