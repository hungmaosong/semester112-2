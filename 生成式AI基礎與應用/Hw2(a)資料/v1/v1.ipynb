{
 "cells": [
  {
   "cell_type": "code",
   "execution_count": 133,
   "metadata": {},
   "outputs": [],
   "source": [
    "import numpy as np\n",
    "import pandas as pd\n",
    "import torch\n",
    "import torch.nn\n",
    "import torch.nn.utils.rnn\n",
    "import torch.utils.data\n",
    "import matplotlib.pyplot as plt\n",
    "from termcolor import colored\n",
    "import os\n",
    "\n",
    "\n",
    "data_path = './data.csv'"
   ]
  },
  {
   "cell_type": "code",
   "execution_count": 134,
   "metadata": {},
   "outputs": [
    {
     "data": {
      "text/plain": [
       "('20*9+4=', 184)"
      ]
     },
     "execution_count": 134,
     "metadata": {},
     "output_type": "execute_result"
    }
   ],
   "source": [
    "#random generate date function for validate\n",
    "def generate_data():\n",
    "    first_num = np.random.randint(low=0,high=30)\n",
    "    second_num = np.random.randint(low=0,high=30)\n",
    "    add = np.random.randint(low=0, high=100) \n",
    "    add2 = np.random.randint(low=0, high=100)\n",
    "    if add <33:\n",
    "        expression = str(first_num) + '+' + str(second_num)\n",
    "        result = first_num+second_num\n",
    "    elif add in range(33,66):\n",
    "        expression = str(first_num) + '-' + str(second_num)\n",
    "        result = first_num-second_num\n",
    "    else :\n",
    "        expression = str(first_num) + '*' + str(second_num)\n",
    "        result = first_num*second_num\n",
    "    \n",
    "    third_num = np.random.randint(low=0,high=30)\n",
    "    if add2 <33:\n",
    "        expression = expression + '+' + str(third_num)+ \"=\"\n",
    "        result = result + third_num\n",
    "    elif add2 in range(33,66):\n",
    "        expression = expression + '-' + str(third_num)+ \"=\"\n",
    "        result = result - third_num\n",
    "    else :\n",
    "        expression = expression+ '*' + str(third_num) + \"=\"\n",
    "        if add <33:\n",
    "            result = first_num+(second_num*third_num)\n",
    "        elif add in range(33,66):\n",
    "            result = first_num-(second_num*third_num)\n",
    "        else:\n",
    "            result = result * third_num\n",
    "    #else:\n",
    "    #    expression = str(first_num) + '/' + str(second_num)\n",
    "    #    res = weird_division(first_num, second_num)\n",
    "    #    result = str(round(res,2))\n",
    "\n",
    " \n",
    "    return expression, result\n",
    "\n",
    "generate_data()"
   ]
  },
  {
   "cell_type": "code",
   "execution_count": 135,
   "metadata": {},
   "outputs": [
    {
     "data": {
      "text/html": [
       "<div>\n",
       "<style scoped>\n",
       "    .dataframe tbody tr th:only-of-type {\n",
       "        vertical-align: middle;\n",
       "    }\n",
       "\n",
       "    .dataframe tbody tr th {\n",
       "        vertical-align: top;\n",
       "    }\n",
       "\n",
       "    .dataframe thead th {\n",
       "        text-align: right;\n",
       "    }\n",
       "</style>\n",
       "<table border=\"1\" class=\"dataframe\">\n",
       "  <thead>\n",
       "    <tr style=\"text-align: right;\">\n",
       "      <th></th>\n",
       "      <th>src</th>\n",
       "      <th>tgt</th>\n",
       "    </tr>\n",
       "  </thead>\n",
       "  <tbody>\n",
       "    <tr>\n",
       "      <th>0</th>\n",
       "      <td>13-18-24=</td>\n",
       "      <td>-29</td>\n",
       "    </tr>\n",
       "    <tr>\n",
       "      <th>1</th>\n",
       "      <td>12+29*26=</td>\n",
       "      <td>766</td>\n",
       "    </tr>\n",
       "    <tr>\n",
       "      <th>2</th>\n",
       "      <td>21-4+13=</td>\n",
       "      <td>30</td>\n",
       "    </tr>\n",
       "    <tr>\n",
       "      <th>3</th>\n",
       "      <td>6*5-9=</td>\n",
       "      <td>21</td>\n",
       "    </tr>\n",
       "    <tr>\n",
       "      <th>4</th>\n",
       "      <td>6*18*28=</td>\n",
       "      <td>3024</td>\n",
       "    </tr>\n",
       "  </tbody>\n",
       "</table>\n",
       "</div>"
      ],
      "text/plain": [
       "         src   tgt\n",
       "0  13-18-24=   -29\n",
       "1  12+29*26=   766\n",
       "2   21-4+13=    30\n",
       "3     6*5-9=    21\n",
       "4   6*18*28=  3024"
      ]
     },
     "execution_count": 135,
     "metadata": {},
     "output_type": "execute_result"
    }
   ],
   "source": [
    "df = pd.read_csv(os.path.join(data_path))\n",
    "# 看一下前幾筆資料是什麼樣子\n",
    "\n",
    "len(df)\n",
    "#df=df[:640000]\n",
    "df.head()"
   ]
  },
  {
   "cell_type": "markdown",
   "metadata": {},
   "source": [
    "<h1> Preprocessing"
   ]
  },
  {
   "cell_type": "code",
   "execution_count": 136,
   "metadata": {},
   "outputs": [
    {
     "data": {
      "text/plain": [
       "0         -29\n",
       "1         766\n",
       "2          30\n",
       "3          21\n",
       "4        3024\n",
       "         ... \n",
       "39995    -303\n",
       "39996    1134\n",
       "39997    4466\n",
       "39998     380\n",
       "39999      30\n",
       "Name: tgt, Length: 40000, dtype: object"
      ]
     },
     "execution_count": 136,
     "metadata": {},
     "output_type": "execute_result"
    }
   ],
   "source": [
    "\n",
    "df['tgt']=df['tgt'].astype(str)\n",
    "df['tgt']"
   ]
  },
  {
   "cell_type": "markdown",
   "metadata": {},
   "source": [
    "<h1>建立字典"
   ]
  },
  {
   "cell_type": "code",
   "execution_count": 137,
   "metadata": {},
   "outputs": [
    {
     "name": "stdout",
     "output_type": "stream",
     "text": [
      "字典大小: 16\n",
      "char_to_index :  {'<pad>': 0, '<eos>': 1, '3': 2, '2': 3, '9': 4, '7': 5, '4': 6, '8': 7, '6': 8, '-': 9, '+': 10, '0': 11, '1': 12, '=': 13, '5': 14, '*': 15}\n",
      "index_to_char :  {0: '<pad>', 1: '<eos>', 2: '3', 3: '2', 4: '9', 5: '7', 6: '4', 7: '8', 8: '6', 9: '-', 10: '+', 11: '0', 12: '1', 13: '=', 14: '5', 15: '*'}\n"
     ]
    }
   ],
   "source": [
    "# 一個dict把字符轉化成id\n",
    "char_to_id = {}\n",
    "# 把id轉回字符\n",
    "id_to_char = {}\n",
    "\n",
    "# 有一些必須要用的special token先添加進來(一般用來做padding的token的id是0)\n",
    "char_to_id['<pad>'] = 0\n",
    "char_to_id['<eos>'] = 1\n",
    "id_to_char[0] = '<pad>'\n",
    "id_to_char[1] = '<eos>'\n",
    "\n",
    "#char_to_id={'<pad>': 0, '<eos>': 1, '2': 2, '7': 3, '3': 4, '9': 5, '5': 6, '6': 7, '0': 8, '-': 9, '1': 10, '8': 11, '=': 12, '+': 13, '4': 14}\n",
    "#id_to_char={0: '<pad>', 1: '<eos>', 2: '2', 3: '7', 4: '3', 5: '9', 6: '5', 7: '6', 8: '0', 9: '-', 10: '1', 11: '8', 12: '=', 13: '+', 14: '4'}\n",
    "\n",
    "# 把所有資料集中出現的token都記錄到dict中\n",
    "\n",
    "for char in set(df['src'].str.cat()):\n",
    "    ch_id = len(char_to_id)\n",
    "    char_to_id[char] = ch_id\n",
    "    id_to_char[ch_id] = char\n",
    "\n",
    "vocab_size = len(char_to_id)\n",
    "print('字典大小: {}'.format(vocab_size))\n",
    "print('char_to_index : ', char_to_id)\n",
    "print('index_to_char : ', id_to_char)"
   ]
  },
  {
   "cell_type": "code",
   "execution_count": 138,
   "metadata": {},
   "outputs": [
    {
     "data": {
      "text/html": [
       "<div>\n",
       "<style scoped>\n",
       "    .dataframe tbody tr th:only-of-type {\n",
       "        vertical-align: middle;\n",
       "    }\n",
       "\n",
       "    .dataframe tbody tr th {\n",
       "        vertical-align: top;\n",
       "    }\n",
       "\n",
       "    .dataframe thead th {\n",
       "        text-align: right;\n",
       "    }\n",
       "</style>\n",
       "<table border=\"1\" class=\"dataframe\">\n",
       "  <thead>\n",
       "    <tr style=\"text-align: right;\">\n",
       "      <th></th>\n",
       "      <th>src</th>\n",
       "      <th>tgt</th>\n",
       "      <th>src_char_id_list</th>\n",
       "      <th>tgt_char_id_list</th>\n",
       "    </tr>\n",
       "  </thead>\n",
       "  <tbody>\n",
       "    <tr>\n",
       "      <th>0</th>\n",
       "      <td>13-18-24=</td>\n",
       "      <td>-29</td>\n",
       "      <td>[12, 2, 9, 12, 7, 9, 3, 6, 13, 9, 3, 4, 1]</td>\n",
       "      <td>[9, 3, 4, 1]</td>\n",
       "    </tr>\n",
       "    <tr>\n",
       "      <th>1</th>\n",
       "      <td>12+29*26=</td>\n",
       "      <td>766</td>\n",
       "      <td>[12, 3, 10, 3, 4, 15, 3, 8, 13, 5, 8, 8, 1]</td>\n",
       "      <td>[5, 8, 8, 1]</td>\n",
       "    </tr>\n",
       "    <tr>\n",
       "      <th>2</th>\n",
       "      <td>21-4+13=</td>\n",
       "      <td>30</td>\n",
       "      <td>[3, 12, 9, 6, 10, 12, 2, 13, 2, 11, 1]</td>\n",
       "      <td>[2, 11, 1]</td>\n",
       "    </tr>\n",
       "    <tr>\n",
       "      <th>3</th>\n",
       "      <td>6*5-9=</td>\n",
       "      <td>21</td>\n",
       "      <td>[8, 15, 14, 9, 4, 13, 3, 12, 1]</td>\n",
       "      <td>[3, 12, 1]</td>\n",
       "    </tr>\n",
       "    <tr>\n",
       "      <th>4</th>\n",
       "      <td>6*18*28=</td>\n",
       "      <td>3024</td>\n",
       "      <td>[8, 15, 12, 7, 15, 3, 7, 13, 2, 11, 3, 6, 1]</td>\n",
       "      <td>[2, 11, 3, 6, 1]</td>\n",
       "    </tr>\n",
       "  </tbody>\n",
       "</table>\n",
       "</div>"
      ],
      "text/plain": [
       "         src   tgt                              src_char_id_list  \\\n",
       "0  13-18-24=   -29    [12, 2, 9, 12, 7, 9, 3, 6, 13, 9, 3, 4, 1]   \n",
       "1  12+29*26=   766   [12, 3, 10, 3, 4, 15, 3, 8, 13, 5, 8, 8, 1]   \n",
       "2   21-4+13=    30        [3, 12, 9, 6, 10, 12, 2, 13, 2, 11, 1]   \n",
       "3     6*5-9=    21               [8, 15, 14, 9, 4, 13, 3, 12, 1]   \n",
       "4   6*18*28=  3024  [8, 15, 12, 7, 15, 3, 7, 13, 2, 11, 3, 6, 1]   \n",
       "\n",
       "   tgt_char_id_list  \n",
       "0      [9, 3, 4, 1]  \n",
       "1      [5, 8, 8, 1]  \n",
       "2        [2, 11, 1]  \n",
       "3        [3, 12, 1]  \n",
       "4  [2, 11, 3, 6, 1]  "
      ]
     },
     "execution_count": 138,
     "metadata": {},
     "output_type": "execute_result"
    }
   ],
   "source": [
    "# 把資料集的所有資料都變成id\n",
    "df['src_char_id_list'] = df['src'].apply(lambda text: [char_to_id[char] for char in list(text)] )+df['tgt'].apply(lambda text: [char_to_id[char] for char in list(text)]+ [char_to_id['<eos>']] )\n",
    "\n",
    "df[['src','tgt','src_char_id_list']].head()"
   ]
  },
  {
   "cell_type": "markdown",
   "metadata": {},
   "source": [
    "# 超參數\n",
    "\n",
    "|超參數|意義|數值|\n",
    "|-|-|-|\n",
    "|`batch_size`|單一 batch 的資料數|64|\n",
    "|`epochs`|總共要訓練幾個 epoch|10|\n",
    "|`embed_dim`|文字的 embedding 維度|50|\n",
    "|`hidden_dim`|LSTM 中每個時間的 hidden state 維度|50|\n",
    "|`lr`|Learning Rate|0.001|\n",
    "|`grad_clip`|為了避免 RNN 出現梯度爆炸問題，將梯度限制範圍|1|"
   ]
  },
  {
   "cell_type": "code",
   "execution_count": 139,
   "metadata": {},
   "outputs": [],
   "source": [
    "batch_size =400\n",
    "epochs = 50\n",
    "embed_dim = 256\n",
    "hidden_dim = 256\n",
    "lr = 0.001\n",
    "grad_clip = 1"
   ]
  },
  {
   "cell_type": "markdown",
   "metadata": {},
   "source": [
    "# 資料分批\n",
    "- 使用 `torch.utils.data.Dataset` 建立資料產生的工具 `dataset`\n",
    "- 再使用 `torch.utils.data.DataLoader` 對資料集 `dataset` 隨機抽樣並作為一個 batch\n"
   ]
  },
  {
   "cell_type": "code",
   "execution_count": 140,
   "metadata": {},
   "outputs": [],
   "source": [
    "# 這裏的dataset是文本生成的dataset，輸入和輸出的資料都是文章\n",
    "# 舉個例子，現在的狀況是：\n",
    "# input:  A B C D E F \n",
    "# output: B C D E F <eos>\n",
    "# 而對於加減法的任務：\n",
    "# input:x 1 + 2 + 3 = 6  \n",
    "#       y + 2 + 3 = 6 <eos>  \n",
    "#         x:   5 +6 +7=18\n",
    "#           y: + 6 +7=18<eos>  \n",
    "# output: / / / / / 6 <eos>\n",
    "# /的部分都不用算loss，主要是預測=的後面，這裏的答案是6，所以output是6 <eos>\n",
    "class Dataset(torch.utils.data.Dataset):\n",
    "    def __init__(self, sequences):\n",
    "        self.sequences = sequences\n",
    "\n",
    "    def __getitem__(self, index):\n",
    "        # input:  1 + 2 + 3 = 6\n",
    "        # output: / / / / / 6 <eos>\n",
    "        #x= 1+2+3=6\n",
    "        #y= ppppp6<eos>\n",
    "        #self.sequences.iloc[index] : 1+ 2+3=6<eos>\n",
    "        x = self.sequences.iloc[index][:-1]\n",
    "        y = self.sequences.iloc[index][1:]#self.sequences.iloc[index][self.sequences[index].index(char_to_id['='])+1:]\n",
    "        # 找到=的索引\n",
    "        index = y.index(char_to_id['='])\n",
    "        # 將=左邊的元素設置為0\n",
    "        y[:index+1] = [0] * (index+1)\n",
    "\n",
    "        return x, y\n",
    "\n",
    "    def __len__(self):\n",
    "        return len(self.sequences)\n",
    "\n",
    "def collate_fn(batch):\n",
    "\n",
    "    batch_x = [torch.tensor(data[0]) for data in batch] # list[torch.tensor]\n",
    "    batch_y = [torch.tensor(data[1]) for data in batch] # list[torch.tensor]\n",
    "    batch_x_lens = torch.LongTensor([len(x) for x in batch_x])\n",
    "    batch_y_lens = torch.LongTensor([len(y) for y in batch_y])\n",
    "    equalidxs=torch.LongTensor([(data == char_to_id['=']).nonzero(as_tuple=True)[0] for data in batch_x])\n",
    "    # torch.tensor\n",
    "    # [[1968, 1891, 3580, ... , 0, 0, 0],\n",
    "    #  [1014, 2242, 2247, ... , 0, 0, 0],\n",
    "    #  [3032,  522, 1485, ... , 0, 0, 0]]\n",
    "    #                       padding↑\n",
    "    pad_batch_x = torch.nn.utils.rnn.pad_sequence(batch_x,\n",
    "                                                  batch_first=True, # shape=(batch_size, seq_len)\n",
    "                                                  padding_value=char_to_id['<pad>'])\n",
    "\n",
    "    pad_batch_y = torch.nn.utils.rnn.pad_sequence(batch_y,\n",
    "                                                  batch_first=True, # shape=(batch_size, seq_len)\n",
    "                                                  padding_value=char_to_id['<pad>'])\n",
    "\n",
    "    return pad_batch_x, pad_batch_y, batch_x_lens, batch_y_lens ,equalidxs"
   ]
  },
  {
   "cell_type": "code",
   "execution_count": 141,
   "metadata": {},
   "outputs": [],
   "source": [
    "dataset = Dataset(df['src_char_id_list'])\n",
    "train_data,val_data=torch.utils.data.random_split(dataset,[int(len(dataset) *0.8),int(len(dataset)*0.2)])\n",
    "\n",
    "#train_data.shape"
   ]
  },
  {
   "cell_type": "code",
   "execution_count": 142,
   "metadata": {},
   "outputs": [
    {
     "data": {
      "text/plain": [
       "([12, 12, 10, 3, 8, 15, 3, 12, 13, 14, 14, 5],\n",
       " [0, 0, 0, 0, 0, 0, 0, 0, 14, 14, 5, 1])"
      ]
     },
     "execution_count": 142,
     "metadata": {},
     "output_type": "execute_result"
    }
   ],
   "source": [
    "train_data.__getitem__(2)\n"
   ]
  },
  {
   "cell_type": "code",
   "execution_count": 143,
   "metadata": {},
   "outputs": [],
   "source": [
    "train_data_loader = torch.utils.data.DataLoader(train_data,\n",
    "                                          batch_size=batch_size,\n",
    "                                          shuffle=True,\n",
    "                                          collate_fn=collate_fn\n",
    "                                          )\n",
    "val_data_loader = torch.utils.data.DataLoader(val_data,\n",
    "                                          batch_size=batch_size,\n",
    "                                          shuffle=True,\n",
    "                                          collate_fn=collate_fn\n",
    "                                          )"
   ]
  },
  {
   "cell_type": "code",
   "execution_count": 144,
   "metadata": {},
   "outputs": [
    {
     "data": {
      "text/plain": [
       "80"
      ]
     },
     "execution_count": 144,
     "metadata": {},
     "output_type": "execute_result"
    }
   ],
   "source": [
    "len(train_data_loader)"
   ]
  },
  {
   "cell_type": "code",
   "execution_count": 145,
   "metadata": {},
   "outputs": [],
   "source": [
    "#for i,x in enumerate(data_loader,):\n",
    "#    print(x)"
   ]
  },
  {
   "cell_type": "markdown",
   "metadata": {},
   "source": [
    "# 模型設計\n",
    "\n",
    "## 執行順序\n",
    "1. 將句子中的所有字轉換成 embedding\n",
    "2. 按照句子順序將 embedding 丟入 LSTM\n",
    "3. LSTM 的輸出再丟給 LSTM，可以接上更多層\n",
    "4. 最後的 LSTM 所有時間點的輸出丟進一層 Fully Connected\n",
    "5. 輸出結果所有維度中的最大者即為下一個字\n",
    "\n",
    "## 損失函數\n",
    "因為是類別預測，所以使用 Cross Entropy\n",
    "\n",
    "## 梯度更新\n",
    "使用 Adam 演算法進行梯度更新"
   ]
  },
  {
   "cell_type": "code",
   "execution_count": 146,
   "metadata": {},
   "outputs": [],
   "source": [
    "device = torch.device(\"cuda:0\") if torch.cuda.is_available() else torch.device(\"cpu\")\n",
    "class CharRNN(torch.nn.Module):\n",
    "    def __init__(self, vocab_size, embed_dim, hidden_dim):\n",
    "        super(CharRNN, self).__init__()\n",
    "\n",
    "        # Embedding層\n",
    "        self.embedding = torch.nn.Embedding(num_embeddings=vocab_size,\n",
    "                                            embedding_dim=embed_dim,\n",
    "                                            padding_idx=char_to_id['<pad>'])\n",
    "        \n",
    "        # RNN層\n",
    "        self.rnn_layer1 = torch.nn.LSTM(input_size=embed_dim,\n",
    "                                        hidden_size=hidden_dim,\n",
    "                                        batch_first=True)\n",
    "\n",
    "        #self.rnn_layer2 = torch.nn.LSTM(input_size=hidden_dim,\n",
    "        #                                hidden_size=hidden_dim,\n",
    "        #                                batch_first=True)\n",
    "        \n",
    "        #self.rnn_layer3 = torch.nn.LSTM(input_size=hidden_dim,\n",
    "        #                                hidden_size=hidden_dim,\n",
    "        #                                batch_first=True)\n",
    "\n",
    "        # output層\n",
    "        self.linear = torch.nn.Sequential(torch.nn.Linear(in_features=hidden_dim,\n",
    "                                                          out_features=hidden_dim),\n",
    "                                          torch.nn.ReLU(),\n",
    "                                          torch.nn.Linear(in_features=hidden_dim,\n",
    "                                                          out_features=vocab_size))\n",
    "        \n",
    "\n",
    "    def forward(self, batch_x, batch_x_lens):\n",
    "        return self.encoder(batch_x, batch_x_lens)\n",
    "\n",
    "    def encoder(self, batch_x, batch_x_lens):\n",
    "        batch_x = self.embedding(batch_x)\n",
    "\n",
    "        # 假設有個tensor : tensor([[1, 2, 3, 4],\n",
    "        #                        [9, 0, 0, 0]])\n",
    "        # 輸出就是：PackedSequence(data=tensor([1, 9, 2, 3, 4]),\n",
    "        #                         batch_sizes=tensor([2, 1, 1, 1]),\n",
    "        #                         sorted_indices=None, unsorted_indices=None)\n",
    "        # torch.nn.utils.rnn.pack_padded_sequence 會把batch當中的句子從長到短排序，建立如上所示的資料結構\n",
    "        # 就像上一個例子一樣，RNN會先吃第一個batch內的第一個batch_size，看到這個地方的batch_size爲2，所以此時RNN會吃兩個token，輸出一個2Xhidden_dim的向量組\n",
    "        # 然後看第二個batch_size, 此時爲1，少了一個，說明其中一個序列到頭了，那就取上一個輸出向量的第一個，再生成一個1Xhidden_dim的向量\n",
    "        # [\n",
    "        # [1,2,3],                data = [1,4,6,2,5,3]   output  data = [1p,4p,6p,2p,5p,3p]             [1p,2p,3p]\n",
    "        # [4,5,0], => pack_padded_sequence => batch_sizes = [3,2,1] => RNN => batch_sizes = [3,2,1] => pad_packed_sequence => [4p,5p,0]\n",
    "        # [6,0,0]         _                                                     [6p,0,0]\n",
    "        # ]\n",
    "        batch_x = torch.nn.utils.rnn.pack_padded_sequence(batch_x,\n",
    "                                                          batch_x_lens,\n",
    "                                                          batch_first=True,\n",
    "                                                          enforce_sorted=False)\n",
    "\n",
    "        batch_x, _ = self.rnn_layer1(batch_x)\n",
    "        #batch_x, _ = self.rnn_layer2(batch_x)\n",
    "        #batch_x, _ = self.rnn_layer3(batch_x)\n",
    "\n",
    "        batch_x, _ = torch.nn.utils.rnn.pad_packed_sequence(batch_x,\n",
    "                                                            batch_first=True)\n",
    "\n",
    "        batch_x = self.linear(batch_x)\n",
    "\n",
    "        return batch_x\n",
    "    \n",
    "    def generator(self, start_chars, max_len=200):\n",
    "        char_list = []\n",
    "        for char in start_chars:\n",
    "            char_list.append(char_to_id[char])\n",
    "    \n",
    "\n",
    "        next_char = None\n",
    "        # Move initial character list to the device\n",
    "        char_list_tensor = torch.LongTensor(char_list).unsqueeze(0).to(device)\n",
    "        # 生成的長度沒達到max_len就一直生\n",
    "        while len(char_list) < max_len:\n",
    "\n",
    "            x = self.embedding(char_list_tensor)\n",
    "            _, (ht, _) = self.rnn_layer1(x)\n",
    "          #  _, (ht, _) = self.rnn_layer2(ht)\n",
    "          #  _, (ht, _) = self.rnn_layer3(ht)\n",
    "            y = self.linear(ht)\n",
    "            \n",
    "            next_char = np.argmax(y.detach().cpu().numpy())\n",
    "\n",
    "            # 如果看到新的token是<eos>就說明生成結束了，就停下\n",
    "            if next_char == char_to_id['<eos>']:\n",
    "                break\n",
    "\n",
    "            char_list.append(next_char)\n",
    "            char_list_tensor = torch.LongTensor(char_list).unsqueeze(0).to(device)\n",
    "\n",
    "        return [id_to_char[ch_id] for ch_id in char_list]"
   ]
  },
  {
   "cell_type": "code",
   "execution_count": 147,
   "metadata": {},
   "outputs": [
    {
     "name": "stdout",
     "output_type": "stream",
     "text": [
      "CharRNN(\n",
      "  (embedding): Embedding(16, 256, padding_idx=0)\n",
      "  (rnn_layer1): LSTM(256, 256, batch_first=True)\n",
      "  (linear): Sequential(\n",
      "    (0): Linear(in_features=256, out_features=256, bias=True)\n",
      "    (1): ReLU()\n",
      "    (2): Linear(in_features=256, out_features=16, bias=True)\n",
      "  )\n",
      ")\n"
     ]
    }
   ],
   "source": [
    "torch.manual_seed(3)\n",
    "\n",
    "\n",
    "model = CharRNN(vocab_size,\n",
    "                embed_dim,\n",
    "                hidden_dim)\n",
    "#model.load_state_dict(torch.load('./models/model_state_dict.pt'))\n",
    "model=model.to(device)\n",
    "print(model)"
   ]
  },
  {
   "cell_type": "code",
   "execution_count": 148,
   "metadata": {},
   "outputs": [],
   "source": [
    "criterion = torch.nn.CrossEntropyLoss(reduction='mean',ignore_index=char_to_id['<pad>'])\n",
    "optimizer = torch.optim.Adam(model.parameters(), lr=lr)"
   ]
  },
  {
   "cell_type": "markdown",
   "metadata": {},
   "source": [
    "# 訓練\n",
    "1. 最外層的 `for` 迴圈控制 `epoch`\n",
    "    1. 內層的 `for` 迴圈透過 `data_loader` 取得 batch\n",
    "        1. 丟給 `model` 進行訓練\n",
    "        2. 預測結果 `batch_pred_y` 跟真正的答案 `batch_y` 進行 Cross Entropy 得到誤差 `loss`\n",
    "        3. 使用 `loss.backward` 自動計算梯度\n",
    "        4. 使用 `torch.nn.utils.clip_grad_value_` 將梯度限制在 `-grad_clip` &lt; &lt; `grad_clip` 之間\n",
    "        5. 使用 `optimizer.step()` 進行更新（back propagation）\n",
    "2. 每 `1000` 個 batch 就輸出一次當前的 loss 觀察是否有收斂的趨勢"
   ]
  },
  {
   "cell_type": "code",
   "execution_count": 149,
   "metadata": {},
   "outputs": [
    {
     "name": "stderr",
     "output_type": "stream",
     "text": [
      "Training epoch 1: 100%|██████████| 80/80 [00:02<00:00, 33.86it/s, loss=1.49]\n",
      "100%|██████████| 50/50 [00:00<00:00, 253.09it/s]\n",
      "Training epoch 2: 100%|██████████| 80/80 [00:01<00:00, 40.92it/s, loss=1.33]\n",
      "100%|██████████| 50/50 [00:00<00:00, 314.04it/s]\n",
      "Training epoch 3: 100%|██████████| 80/80 [00:02<00:00, 36.89it/s, loss=1.2] \n",
      "100%|██████████| 50/50 [00:00<00:00, 412.02it/s]\n",
      "Training epoch 4: 100%|██████████| 80/80 [00:02<00:00, 35.81it/s, loss=1.07]\n",
      "100%|██████████| 50/50 [00:00<00:00, 344.03it/s]\n",
      "Training epoch 5: 100%|██████████| 80/80 [00:02<00:00, 36.02it/s, loss=0.927]\n",
      "100%|██████████| 50/50 [00:00<00:00, 393.73it/s]\n",
      "Training epoch 6: 100%|██████████| 80/80 [00:02<00:00, 36.76it/s, loss=0.771]\n",
      "100%|██████████| 50/50 [00:00<00:00, 372.04it/s]\n",
      "Training epoch 7: 100%|██████████| 80/80 [00:02<00:00, 36.99it/s, loss=0.71] \n",
      "100%|██████████| 50/50 [00:00<00:00, 288.95it/s]\n",
      "Training epoch 8: 100%|██████████| 80/80 [00:02<00:00, 36.13it/s, loss=0.66] \n",
      "100%|██████████| 50/50 [00:00<00:00, 389.27it/s]\n",
      "Training epoch 9: 100%|██████████| 80/80 [00:02<00:00, 35.27it/s, loss=0.589]\n",
      "100%|██████████| 50/50 [00:00<00:00, 385.95it/s]\n",
      "Training epoch 10: 100%|██████████| 80/80 [00:02<00:00, 35.05it/s, loss=0.625]\n",
      "100%|██████████| 50/50 [00:00<00:00, 405.72it/s]\n",
      "Training epoch 11: 100%|██████████| 80/80 [00:02<00:00, 35.83it/s, loss=0.524]\n",
      "100%|██████████| 50/50 [00:00<00:00, 374.69it/s]\n",
      "Training epoch 12: 100%|██████████| 80/80 [00:02<00:00, 35.02it/s, loss=0.518]\n",
      "100%|██████████| 50/50 [00:00<00:00, 419.85it/s]\n",
      "Training epoch 13: 100%|██████████| 80/80 [00:02<00:00, 38.46it/s, loss=0.503]\n",
      "100%|██████████| 50/50 [00:00<00:00, 348.24it/s]\n",
      "Training epoch 14: 100%|██████████| 80/80 [00:02<00:00, 35.66it/s, loss=0.492]\n",
      "100%|██████████| 50/50 [00:00<00:00, 398.16it/s]\n",
      "Training epoch 15: 100%|██████████| 80/80 [00:02<00:00, 36.85it/s, loss=0.44]\n",
      "100%|██████████| 50/50 [00:00<00:00, 372.12it/s]\n",
      "Training epoch 16: 100%|██████████| 80/80 [00:02<00:00, 37.85it/s, loss=0.459]\n",
      "100%|██████████| 50/50 [00:00<00:00, 322.16it/s]\n",
      "Training epoch 17: 100%|██████████| 80/80 [00:02<00:00, 34.95it/s, loss=0.487]\n",
      "100%|██████████| 50/50 [00:00<00:00, 385.84it/s]\n",
      "Training epoch 18: 100%|██████████| 80/80 [00:02<00:00, 35.44it/s, loss=0.392]\n",
      "100%|██████████| 50/50 [00:00<00:00, 387.56it/s]\n",
      "Training epoch 19: 100%|██████████| 80/80 [00:02<00:00, 35.63it/s, loss=0.383]\n",
      "100%|██████████| 50/50 [00:00<00:00, 400.11it/s]\n",
      "Training epoch 20: 100%|██████████| 80/80 [00:02<00:00, 32.42it/s, loss=0.393]\n",
      "100%|██████████| 50/50 [00:00<00:00, 372.87it/s]\n",
      "Training epoch 21: 100%|██████████| 80/80 [00:02<00:00, 31.33it/s, loss=0.363]\n",
      "100%|██████████| 50/50 [00:00<00:00, 426.67it/s]\n",
      "Training epoch 22: 100%|██████████| 80/80 [00:02<00:00, 39.97it/s, loss=0.509]\n",
      "100%|██████████| 50/50 [00:00<00:00, 375.08it/s]\n",
      "Training epoch 23: 100%|██████████| 80/80 [00:01<00:00, 42.06it/s, loss=0.364]\n",
      "100%|██████████| 50/50 [00:00<00:00, 361.15it/s]\n",
      "Training epoch 24: 100%|██████████| 80/80 [00:02<00:00, 39.24it/s, loss=0.388]\n",
      "100%|██████████| 50/50 [00:00<00:00, 387.84it/s]\n",
      "Training epoch 25: 100%|██████████| 80/80 [00:02<00:00, 38.01it/s, loss=0.335]\n",
      "100%|██████████| 50/50 [00:00<00:00, 434.69it/s]\n",
      "Training epoch 26: 100%|██████████| 80/80 [00:02<00:00, 37.49it/s, loss=0.42] \n",
      "100%|██████████| 50/50 [00:00<00:00, 387.16it/s]\n",
      "Training epoch 27: 100%|██████████| 80/80 [00:02<00:00, 33.58it/s, loss=0.33] \n",
      "100%|██████████| 50/50 [00:00<00:00, 373.90it/s]\n",
      "Training epoch 28: 100%|██████████| 80/80 [00:02<00:00, 37.22it/s, loss=0.313]\n",
      "100%|██████████| 50/50 [00:00<00:00, 357.07it/s]\n",
      "Training epoch 29: 100%|██████████| 80/80 [00:02<00:00, 38.19it/s, loss=0.304]\n",
      "100%|██████████| 50/50 [00:00<00:00, 358.73it/s]\n",
      "Training epoch 30: 100%|██████████| 80/80 [00:02<00:00, 39.05it/s, loss=0.371]\n",
      "100%|██████████| 50/50 [00:00<00:00, 364.02it/s]\n",
      "Training epoch 31: 100%|██████████| 80/80 [00:02<00:00, 36.79it/s, loss=0.375]\n",
      "100%|██████████| 50/50 [00:00<00:00, 423.53it/s]\n",
      "Training epoch 32: 100%|██████████| 80/80 [00:02<00:00, 38.95it/s, loss=0.313]\n",
      "100%|██████████| 50/50 [00:00<00:00, 420.08it/s]\n",
      "Training epoch 33: 100%|██████████| 80/80 [00:02<00:00, 38.92it/s, loss=0.301]\n",
      "100%|██████████| 50/50 [00:00<00:00, 403.94it/s]\n",
      "Training epoch 34: 100%|██████████| 80/80 [00:02<00:00, 36.73it/s, loss=0.311]\n",
      "100%|██████████| 50/50 [00:00<00:00, 362.49it/s]\n",
      "Training epoch 35: 100%|██████████| 80/80 [00:02<00:00, 38.36it/s, loss=0.28] \n",
      "100%|██████████| 50/50 [00:00<00:00, 379.59it/s]\n",
      "Training epoch 36: 100%|██████████| 80/80 [00:02<00:00, 37.91it/s, loss=0.319]\n",
      "100%|██████████| 50/50 [00:00<00:00, 403.80it/s]\n",
      "Training epoch 37: 100%|██████████| 80/80 [00:02<00:00, 35.40it/s, loss=0.273]\n",
      "100%|██████████| 50/50 [00:00<00:00, 369.30it/s]\n",
      "Training epoch 38: 100%|██████████| 80/80 [00:02<00:00, 38.54it/s, loss=0.257]\n",
      "100%|██████████| 50/50 [00:00<00:00, 408.52it/s]\n",
      "Training epoch 39: 100%|██████████| 80/80 [00:02<00:00, 38.63it/s, loss=0.345]\n",
      "100%|██████████| 50/50 [00:00<00:00, 396.44it/s]\n",
      "Training epoch 40: 100%|██████████| 80/80 [00:02<00:00, 37.18it/s, loss=0.25] \n",
      "100%|██████████| 50/50 [00:00<00:00, 393.38it/s]\n",
      "Training epoch 41: 100%|██████████| 80/80 [00:02<00:00, 37.03it/s, loss=0.246]\n",
      "100%|██████████| 50/50 [00:00<00:00, 411.35it/s]\n",
      "Training epoch 42: 100%|██████████| 80/80 [00:02<00:00, 36.19it/s, loss=0.295]\n",
      "100%|██████████| 50/50 [00:00<00:00, 376.07it/s]\n",
      "Training epoch 43: 100%|██████████| 80/80 [00:02<00:00, 36.74it/s, loss=0.318]\n",
      "100%|██████████| 50/50 [00:00<00:00, 389.33it/s]\n",
      "Training epoch 44: 100%|██████████| 80/80 [00:02<00:00, 35.55it/s, loss=0.247]\n",
      "100%|██████████| 50/50 [00:00<00:00, 393.50it/s]\n",
      "Training epoch 45: 100%|██████████| 80/80 [00:02<00:00, 39.09it/s, loss=0.241]\n",
      "100%|██████████| 50/50 [00:00<00:00, 393.79it/s]\n",
      "Training epoch 46: 100%|██████████| 80/80 [00:02<00:00, 37.42it/s, loss=0.261]\n",
      "100%|██████████| 50/50 [00:00<00:00, 427.01it/s]\n",
      "Training epoch 47: 100%|██████████| 80/80 [00:02<00:00, 39.49it/s, loss=0.241]\n",
      "100%|██████████| 50/50 [00:00<00:00, 411.18it/s]\n",
      "Training epoch 48: 100%|██████████| 80/80 [00:02<00:00, 39.16it/s, loss=0.283]\n",
      "100%|██████████| 50/50 [00:00<00:00, 346.69it/s]\n",
      "Training epoch 49: 100%|██████████| 80/80 [00:02<00:00, 38.22it/s, loss=0.254]\n",
      "100%|██████████| 50/50 [00:00<00:00, 404.23it/s]\n",
      "Training epoch 50: 100%|██████████| 80/80 [00:02<00:00, 38.28it/s, loss=0.22] \n",
      "100%|██████████| 50/50 [00:00<00:00, 377.16it/s]\n"
     ]
    }
   ],
   "source": [
    "from tqdm import tqdm\n",
    "model = model.to(device)\n",
    "model.train()\n",
    "test_acc = []\n",
    "val_losses = []\n",
    "train_losses = []\n",
    "i = 0\n",
    "j = 0\n",
    "losstemp=0\n",
    "for epoch in range(1, epochs+1):\n",
    "    process_bar = tqdm(train_data_loader, desc=f\"Training epoch {epoch}\")\n",
    "    \n",
    "    for batch_x, batch_y, batch_x_lens, batch_y_lens,eqidex in process_bar:\n",
    "        #print(batch_x)\n",
    "        # 標準DL訓練\n",
    "        \n",
    "        optimizer.zero_grad()\n",
    "\n",
    "        batch_pred_y = model(batch_x.to(device), batch_x_lens)\n",
    "\n",
    "        #print(batch_pred_y)\n",
    "        batch_pred_y=batch_pred_y[:, : ,:]\n",
    "        #print(batch_pred_y.shape)\n",
    "        batch_pred_y =  batch_pred_y.reshape(batch_size*batch_pred_y.shape[1],vocab_size)\n",
    "\n",
    "        #print(batch_pred_y.shape)\n",
    "        #print(batch_pred_y.shape)\n",
    "        #print(batch_y)\n",
    "        batch_y=batch_y.reshape(-1).to(device)\n",
    "        #print(batch_y)\n",
    "        # 計算損失          \n",
    "        \n",
    "        \n",
    "        loss = criterion(batch_pred_y, batch_y)\n",
    "        loss.backward() \n",
    "        torch.nn.utils.clip_grad_value_(model.parameters(), grad_clip)\n",
    "        optimizer.step()\n",
    "        \n",
    "        \n",
    "        i+=1\n",
    "        losstemp+=loss.item()\n",
    "        if i%20==0:\n",
    "            process_bar.set_postfix(loss=loss.item())\n",
    "            \n",
    "            \n",
    "    train_losses.append(losstemp)\n",
    "    #validation\n",
    "    losstemp=0\n",
    "    for batch_x, batch_y, batch_x_lens, batch_y_lens,eqidex in val_data_loader:\n",
    "\n",
    "        \n",
    "        optimizer.zero_grad()\n",
    "\n",
    "        batch_pred_y = model(batch_x.to(device), batch_x_lens)\n",
    "\n",
    "        #print(batch_pred_y)\n",
    "        batch_pred_y=batch_pred_y[:, : ,:]\n",
    "        #print(batch_pred_y.shape)\n",
    "        batch_pred_y =  batch_pred_y.reshape(batch_size*batch_pred_y.shape[1],vocab_size)\n",
    "        \n",
    "        #print(batch_pred_y.shape)\n",
    "        #print(batch_pred_y.shape)\n",
    "        #print(batch_y)\n",
    "        batch_y=batch_y.reshape(-1).to(device)\n",
    "        #print(batch_y)\n",
    "        # 計算損失          \n",
    "        \n",
    "        j+=1\n",
    "        losstemp+=loss.item()\n",
    "        loss = criterion(batch_pred_y, batch_y)\n",
    "        \n",
    "    val_losses.append(losstemp*4)\n",
    "        \n",
    "        \n",
    "    #每個epoch test acc一次\n",
    "    #if(epoch==0):\n",
    "    validation_process_bar = tqdm(range(50))\n",
    "    correctCount=0\n",
    "    for i in validation_process_bar:\n",
    "        expression,result=generate_data()\n",
    "        pred = model.generator(expression)\n",
    "        \n",
    "        genStr=\"\"\n",
    "        for x in pred: \n",
    "            genStr+= x \n",
    "    \n",
    "        #print(expression,result,genStr) \n",
    "        if(genStr==expression+str(result)):\n",
    "            #print(expression,genStr)\n",
    "            correctCount=correctCount+1\n",
    "    #print(\"acc=\"+str(correctCount/50.0)) \n",
    "    test_acc.append(correctCount/50.0)\n",
    "\n",
    "    #如果訓練到500 epoch要儲存一下\n",
    "    if(epoch%500==0):\n",
    "        torch.save(model, './models/model_epoch'+str(epoch)+'.pt')\n",
    "           \n",
    "        "
   ]
  },
  {
   "cell_type": "code",
   "execution_count": 150,
   "metadata": {},
   "outputs": [
    {
     "name": "stdout",
     "output_type": "stream",
     "text": [
      "['1', '0', '+', '1', '2', '*', '1', '3', '=', '1', '6', '6']\n"
     ]
    }
   ],
   "source": [
    "genStr=model.generator('10+12*13=')\n",
    "print(genStr)"
   ]
  },
  {
   "cell_type": "code",
   "execution_count": 151,
   "metadata": {},
   "outputs": [
    {
     "data": {
      "image/png": "[encoded data removed]",
      "text/plain": [
       "<Figure size 1000x500 with 1 Axes>"
      ]
     },
     "metadata": {},
     "output_type": "display_data"
    }
   ],
   "source": [
    "plt.figure(figsize=(10,5))\n",
    "plt.title(\"Training and val loss\")\n",
    "plt.plot(val_losses,label=\"val\")\n",
    "plt.plot(train_losses,label=\"train\")\n",
    "plt.xlabel(\"iterations\")\n",
    "plt.ylabel(\"Loss\")\n",
    "plt.legend()\n",
    "plt.show()"
   ]
  },
  {
   "cell_type": "code",
   "execution_count": 152,
   "metadata": {},
   "outputs": [
    {
     "data": {
      "image/png": "[encoded data removed]",
      "text/plain": [
       "<Figure size 1000x500 with 1 Axes>"
      ]
     },
     "metadata": {},
     "output_type": "display_data"
    }
   ],
   "source": [
    "plt.figure(figsize=(10,5))\n",
    "plt.title(\"test acc\")\n",
    "plt.plot(test_acc)\n",
    "plt.xlabel(\"epochs\")\n",
    "plt.ylabel(\"acc\")\n",
    "plt.show()\n"
   ]
  },
  {
   "cell_type": "code",
   "execution_count": 163,
   "metadata": {},
   "outputs": [
    {
     "name": "stderr",
     "output_type": "stream",
     "text": [
      " 49%|████▉     | 49/100 [00:00<00:00, 242.49it/s]"
     ]
    },
    {
     "name": "stdout",
     "output_type": "stream",
     "text": [
      "\u001b[32m8+24-10=22\u001b[0m \u001b[32m22\u001b[0m\n",
      "\u001b[32m24-13+20=31\u001b[0m \u001b[32m31\u001b[0m\n",
      "\u001b[32m18-23+10=5\u001b[0m \u001b[32m5\u001b[0m\n",
      "\u001b[32m26-24+0=2\u001b[0m \u001b[32m2\u001b[0m\n",
      "\u001b[32m1*13-2=11\u001b[0m \u001b[32m11\u001b[0m\n",
      "\u001b[32m9-1-7=1\u001b[0m \u001b[32m1\u001b[0m\n",
      "\u001b[32m3+12*2=27\u001b[0m \u001b[32m27\u001b[0m\n",
      "\u001b[32m25-11+21=35\u001b[0m \u001b[32m35\u001b[0m\n",
      "\u001b[32m17*20+4=344\u001b[0m \u001b[32m344\u001b[0m\n",
      "\u001b[32m28+22+7=57\u001b[0m \u001b[32m57\u001b[0m\n",
      "\u001b[32m13+2+19=34\u001b[0m \u001b[32m34\u001b[0m\n",
      "\u001b[32m23*18+11=425\u001b[0m \u001b[32m425\u001b[0m\n",
      "2-24+21=-3 -1\n",
      "12*11*10=1360 1320\n",
      "8*14*19=2152 2128\n",
      "20+21*14=326 314\n",
      "\u001b[32m2+29-24=7\u001b[0m \u001b[32m7\u001b[0m\n",
      "10-8*22=-162 -166\n",
      "\u001b[32m23+2+18=43\u001b[0m \u001b[32m43\u001b[0m\n",
      "17-26-14=-21 -23\n",
      "\u001b[32m14*16+20=244\u001b[0m \u001b[32m244\u001b[0m\n",
      "\u001b[32m16*6*20=1920\u001b[0m \u001b[32m1920\u001b[0m\n",
      "\u001b[32m16*9+12=156\u001b[0m \u001b[32m156\u001b[0m\n",
      "22-13*0=24 22\n",
      "\u001b[32m28-16+18=30\u001b[0m \u001b[32m30\u001b[0m\n",
      "\u001b[32m1+2+21=24\u001b[0m \u001b[32m24\u001b[0m\n",
      "\u001b[32m14+10-25=-1\u001b[0m \u001b[32m-1\u001b[0m\n",
      "\u001b[32m25-27+29=27\u001b[0m \u001b[32m27\u001b[0m\n",
      "\u001b[32m7+7+22=36\u001b[0m \u001b[32m36\u001b[0m\n",
      "1+3-22=-16 -18\n",
      "\u001b[32m27+2*27=81\u001b[0m \u001b[32m81\u001b[0m\n",
      "\u001b[32m20+1+1=22\u001b[0m \u001b[32m22\u001b[0m\n",
      "29*20+25=615 605\n",
      "19-29-24=-32 -34\n",
      "\u001b[32m24+17-28=13\u001b[0m \u001b[32m13\u001b[0m\n",
      "\u001b[32m5+10-3=12\u001b[0m \u001b[32m12\u001b[0m\n",
      "\u001b[32m16-3*27=-65\u001b[0m \u001b[32m-65\u001b[0m\n",
      "\u001b[32m21-4+18=35\u001b[0m \u001b[32m35\u001b[0m\n",
      "\u001b[32m16+16+23=55\u001b[0m \u001b[32m55\u001b[0m\n",
      "\u001b[32m16-1-5=10\u001b[0m \u001b[32m10\u001b[0m\n",
      "\u001b[32m27-27+19=19\u001b[0m \u001b[32m19\u001b[0m\n",
      "\u001b[32m15-1-17=-3\u001b[0m \u001b[32m-3\u001b[0m\n",
      "\u001b[32m26-8-25=-7\u001b[0m \u001b[32m-7\u001b[0m\n",
      "\u001b[32m25+6+13=44\u001b[0m \u001b[32m44\u001b[0m\n",
      "1+24*24=587 577\n",
      "\u001b[32m19+29*1=48\u001b[0m \u001b[32m48\u001b[0m\n",
      "\u001b[32m2*5-3=7\u001b[0m \u001b[32m7\u001b[0m\n",
      "\u001b[32m7+1+21=29\u001b[0m \u001b[32m29\u001b[0m\n",
      "\u001b[32m15*24*0=0\u001b[0m \u001b[32m0\u001b[0m\n"
     ]
    },
    {
     "name": "stderr",
     "output_type": "stream",
     "text": [
      "100%|██████████| 100/100 [00:00<00:00, 277.39it/s]"
     ]
    },
    {
     "name": "stdout",
     "output_type": "stream",
     "text": [
      "19*14+21=295 287\n",
      "\u001b[32m20-11-18=-9\u001b[0m \u001b[32m-9\u001b[0m\n",
      "4+14*24=336 340\n",
      "\u001b[32m0-10+18=8\u001b[0m \u001b[32m8\u001b[0m\n",
      "\u001b[32m10*24-6=234\u001b[0m \u001b[32m234\u001b[0m\n",
      "\u001b[32m26+12+16=54\u001b[0m \u001b[32m54\u001b[0m\n",
      "\u001b[32m25+27+28=80\u001b[0m \u001b[32m80\u001b[0m\n",
      "\u001b[32m12*2*21=504\u001b[0m \u001b[32m504\u001b[0m\n",
      "\u001b[32m25+26-22=29\u001b[0m \u001b[32m29\u001b[0m\n",
      "\u001b[32m18-24-13=-19\u001b[0m \u001b[32m-19\u001b[0m\n",
      "\u001b[32m22-9-6=7\u001b[0m \u001b[32m7\u001b[0m\n",
      "25*18*11=4850 4950\n",
      "2-0-3=1 -1\n",
      "\u001b[32m12+1*23=35\u001b[0m \u001b[32m35\u001b[0m\n",
      "10+15*12=180 190\n",
      "\u001b[32m26-11+22=37\u001b[0m \u001b[32m37\u001b[0m\n",
      "\u001b[32m18+11-25=4\u001b[0m \u001b[32m4\u001b[0m\n",
      "\u001b[32m12+21-19=14\u001b[0m \u001b[32m14\u001b[0m\n",
      "\u001b[32m7*11-8=69\u001b[0m \u001b[32m69\u001b[0m\n",
      "7-8-6=-5 -7\n",
      "\u001b[32m5*16+9=89\u001b[0m \u001b[32m89\u001b[0m\n",
      "7+3*7=26 28\n",
      "\u001b[32m28*18-5=499\u001b[0m \u001b[32m499\u001b[0m\n",
      "\u001b[32m3-20-3=-20\u001b[0m \u001b[32m-20\u001b[0m\n",
      "\u001b[32m25+8-17=16\u001b[0m \u001b[32m16\u001b[0m\n",
      "\u001b[32m19+0+24=43\u001b[0m \u001b[32m43\u001b[0m\n",
      "\u001b[32m19+17-3=33\u001b[0m \u001b[32m33\u001b[0m\n",
      "4+22*15=326 334\n",
      "\u001b[32m26+2+5=33\u001b[0m \u001b[32m33\u001b[0m\n",
      "4-21*17=-349 -353\n",
      "21-23-21=-21 -23\n",
      "18*6*2=224 216\n",
      "\u001b[32m9-29-24=-44\u001b[0m \u001b[32m-44\u001b[0m\n",
      "\u001b[32m2-2-9=-9\u001b[0m \u001b[32m-9\u001b[0m\n",
      "11+5*29=152 156\n",
      "\u001b[32m23+2-11=14\u001b[0m \u001b[32m14\u001b[0m\n",
      "\u001b[32m25-0+20=45\u001b[0m \u001b[32m45\u001b[0m\n",
      "\u001b[32m26-5-19=2\u001b[0m \u001b[32m2\u001b[0m\n",
      "12*10+6=124 126\n",
      "24*26*19=12312 11856\n",
      "\u001b[32m26+15+20=61\u001b[0m \u001b[32m61\u001b[0m\n",
      "\u001b[32m9+7+25=41\u001b[0m \u001b[32m41\u001b[0m\n",
      "\u001b[32m25+4-7=22\u001b[0m \u001b[32m22\u001b[0m\n",
      "\u001b[32m15+12-4=23\u001b[0m \u001b[32m23\u001b[0m\n",
      "\u001b[32m4-1-6=-3\u001b[0m \u001b[32m-3\u001b[0m\n",
      "\u001b[32m20-17+5=8\u001b[0m \u001b[32m8\u001b[0m\n",
      "\u001b[32m8-14+9=3\u001b[0m \u001b[32m3\u001b[0m\n",
      "20*21-4=424 416\n",
      "10*27-4=256 266\n",
      "8*5-19=17 21\n",
      "\u001b[32m15+0*8=15\u001b[0m \u001b[32m15\u001b[0m\n",
      "acc=0.72\n"
     ]
    },
    {
     "name": "stderr",
     "output_type": "stream",
     "text": [
      "\n"
     ]
    }
   ],
   "source": [
    "#手動跑一次random test\n",
    "validation_process_bar = tqdm(range(100))\n",
    "correctCount=0\n",
    "for i in validation_process_bar:\n",
    "    expression,result=generate_data()\n",
    "    \n",
    "    pred = model.generator(expression)\n",
    "    \n",
    "    genStr=\"\"\n",
    "    for x in pred: \n",
    "         genStr+= x \n",
    "    \n",
    "    \n",
    "    if(genStr==expression+str(result)):\n",
    "        \n",
    "        print(colored(genStr,'green'),colored(result,'green'))\n",
    "        correctCount=correctCount+1\n",
    "    else:\n",
    "        print(genStr,result)\n",
    "print(\"acc=\"+str(correctCount/100.0))       "
   ]
  },
  {
   "cell_type": "markdown",
   "metadata": {},
   "source": [
    "# 測試在脫離data set範圍的情況下 準確率怎麼樣"
   ]
  },
  {
   "cell_type": "code",
   "execution_count": 154,
   "metadata": {},
   "outputs": [
    {
     "data": {
      "text/plain": [
       "('39+31+12=', 82)"
      ]
     },
     "execution_count": 154,
     "metadata": {},
     "output_type": "execute_result"
    }
   ],
   "source": [
    "#random generate date function for validate\n",
    "def diff_generate_data():\n",
    "    first_num = np.random.randint(low=0,high=50)\n",
    "    second_num = np.random.randint(low=0,high=50)\n",
    "    add = np.random.randint(low=0, high=100) \n",
    "    add2 = np.random.randint(low=0, high=100)\n",
    "    if add <33:\n",
    "        expression = str(first_num) + '+' + str(second_num)\n",
    "        result = first_num+second_num\n",
    "    elif add in range(33,66):\n",
    "        expression = str(first_num) + '-' + str(second_num)\n",
    "        result = first_num-second_num\n",
    "    else :\n",
    "        expression = str(first_num) + '*' + str(second_num)\n",
    "        result = first_num*second_num\n",
    "    \n",
    "    third_num = np.random.randint(low=0,high=50)\n",
    "    if add2 <33:\n",
    "        expression = expression + '+' + str(third_num)+ \"=\"\n",
    "        result = result + third_num\n",
    "    elif add2 in range(33,66):\n",
    "        expression = expression + '-' + str(third_num)+ \"=\"\n",
    "        result = result - third_num\n",
    "    else :\n",
    "        expression = expression+ '*' + str(third_num) + \"=\"\n",
    "        if add <33:\n",
    "            result = first_num+(second_num*third_num)\n",
    "        elif add in range(33,66):\n",
    "            result = first_num-(second_num*third_num)\n",
    "        else:\n",
    "            result = result * third_num\n",
    "    \n",
    "\n",
    " \n",
    "    return expression, result\n",
    "\n",
    "diff_generate_data()"
   ]
  },
  {
   "cell_type": "code",
   "execution_count": 155,
   "metadata": {},
   "outputs": [
    {
     "name": "stderr",
     "output_type": "stream",
     "text": [
      "  0%|          | 0/100 [00:00<?, ?it/s]"
     ]
    },
    {
     "name": "stdout",
     "output_type": "stream",
     "text": [
      "27*34+28=255 946\n",
      "44+4-31=3 17\n",
      "22-28*10=-266 -258\n",
      "5-13+37=7 29\n",
      "7*38*42=726 11172\n",
      "36-21*0=17 36\n",
      "12*18*18=3788 3888\n",
      "39*30+2=87 1172\n",
      "25*29+45=710 770\n",
      "15*8-29=93 91\n",
      "43*46+25=99 2003\n",
      "33-28*29=-799 -779\n",
      "6-1+30=13 35\n",
      "21*48-4=1420 1004\n",
      "40-31*45=-91 -1355\n",
      "13*43+28=114 587\n",
      "37+39-36=18 40\n",
      "41*24-11=155 973\n",
      "45+30+1=22 76\n",
      "29-6-46=1 -23\n",
      "15-41+4=9 -22\n",
      "12-32+9=11 -11\n",
      "16+40-5=19 51\n",
      "2*0+38=17 38\n",
      "\u001b[32m3-3-24=-24\u001b[0m \u001b[32m-24\u001b[0m\n",
      "28*12-19=327 317\n",
      "19+42+30=37 91\n"
     ]
    },
    {
     "name": "stderr",
     "output_type": "stream",
     "text": [
      " 79%|███████▉  | 79/100 [00:00<00:00, 386.93it/s]"
     ]
    },
    {
     "name": "stdout",
     "output_type": "stream",
     "text": [
      "26*25*12=7100 7800\n",
      "40-30*16=-88 -440\n",
      "5*35*9=475 1575\n",
      "34+15+2=29 51\n",
      "10*26*39=2466 10140\n",
      "48*48+5=113 2309\n",
      "7+29*44=163 1283\n",
      "47-22+45=7 70\n",
      "45+0+35=26 80\n",
      "8*38*15=1260 4560\n",
      "49+8*43=90 393\n",
      "26*38-46=310 942\n",
      "38*15*21=2660 11970\n",
      "41+29*25=713 766\n",
      "6-42*42=96 -1758\n",
      "27+4*24=119 123\n",
      "40-26+14=-8 28\n",
      "24-28*14=-366 -368\n",
      "12*45-28=78 512\n",
      "3*43+12=55 141\n",
      "18-35-19=-18 -36\n",
      "40*6*30=120 7200\n",
      "\u001b[32m8+7+8=23\u001b[0m \u001b[32m23\u001b[0m\n",
      "30*5+16=41 166\n",
      "\u001b[32m25*12-6=294\u001b[0m \u001b[32m294\u001b[0m\n",
      "44*49*26=1584 56056\n",
      "\u001b[32m14-15-28=-29\u001b[0m \u001b[32m-29\u001b[0m\n",
      "45+22-1=33 66\n",
      "49-0-10=10 39\n",
      "22+40*47=92 1902\n",
      "10*10*33=310 3300\n",
      "33*5+34=53 199\n",
      "9+48+19=46 76\n",
      "4-7*41=-71 -283\n",
      "8-22*48=-164 -1048\n",
      "5+40+10=25 55\n",
      "34*11+24=90 398\n",
      "41-41*21=-155 -820\n",
      "33-33-29=-33 -29\n",
      "37+7*21=140 184\n",
      "46+28-6=36 68\n",
      "13+8-39=-2 -18\n",
      "49-18+32=13 63\n",
      "\u001b[32m8+7+12=27\u001b[0m \u001b[32m27\u001b[0m\n",
      "36-33-39=-17 -36\n",
      "\u001b[32m18-29*0=18\u001b[0m \u001b[32m18\u001b[0m\n",
      "43-0-22=-10 21\n",
      "21+10*43=91 451\n",
      "5*34-27=29 143\n",
      "9-27*46=-159 -1233\n",
      "33+47-18=11 62\n",
      "\u001b[32m25-15-22=-12\u001b[0m \u001b[32m-12\u001b[0m\n"
     ]
    },
    {
     "name": "stderr",
     "output_type": "stream",
     "text": [
      "100%|██████████| 100/100 [00:00<00:00, 381.33it/s]"
     ]
    },
    {
     "name": "stdout",
     "output_type": "stream",
     "text": [
      "45*27+48=168 1263\n",
      "\u001b[32m0*44+26=26\u001b[0m \u001b[32m26\u001b[0m\n",
      "35*45+21=107 1596\n",
      "40*27-22=74 1058\n",
      "6+41*9=79 375\n",
      "22*48+15=169 1071\n",
      "18+39*30=81 1188\n",
      "26*9+49=237 283\n",
      "44*43+12=84 1904\n",
      "40-30-20=-26 -10\n",
      "2*32-39=7 25\n",
      "20-42*32=-96 -1324\n",
      "39*23*13=2867 11661\n",
      "28-22-24=-16 -18\n",
      "45*39*21=1447 36855\n",
      "16*16*32=2116 8192\n",
      "\u001b[32m25-9-12=4\u001b[0m \u001b[32m4\u001b[0m\n",
      "\u001b[32m14*1+19=33\u001b[0m \u001b[32m33\u001b[0m\n",
      "39*38-37=90 1445\n",
      "41*40*16=720 26240\n",
      "11*6+36=77 102\n",
      "acc=0.1\n"
     ]
    },
    {
     "name": "stderr",
     "output_type": "stream",
     "text": [
      "\n"
     ]
    }
   ],
   "source": [
    "validation_process_bar = tqdm(range(100))\n",
    "correctCount=0\n",
    "for i in validation_process_bar:\n",
    "    expression,result=diff_generate_data()\n",
    "    \n",
    "    pred = model.generator(expression)\n",
    "    \n",
    "    genStr=\"\"\n",
    "    for x in pred: \n",
    "         genStr+= x \n",
    "\n",
    "\n",
    "    if(genStr==expression+str(result)):\n",
    "        \n",
    "        print(colored(genStr,'green'),colored(result,'green'))\n",
    "        correctCount=correctCount+1\n",
    "    else:\n",
    "        print(genStr,result)\n",
    "print(\"acc=\"+str(correctCount/100.0))       "
   ]
  },
  {
   "cell_type": "code",
   "execution_count": null,
   "metadata": {},
   "outputs": [],
   "source": []
  }
 ],
 "metadata": {
  "kernelspec": {
   "display_name": "base",
   "language": "python",
   "name": "python3"
  },
  "language_info": {
   "codemirror_mode": {
    "name": "ipython",
    "version": 3
   },
   "file_extension": ".py",
   "mimetype": "text/x-python",
   "name": "python",
   "nbconvert_exporter": "python",
   "pygments_lexer": "ipython3",
   "version": "3.9.17"
  }
 },
 "nbformat": 4,
 "nbformat_minor": 2
}
