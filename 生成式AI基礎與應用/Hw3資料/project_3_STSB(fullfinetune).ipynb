{
  "metadata": {
    "kernelspec": {
      "language": "python",
      "display_name": "Python 3",
      "name": "python3"
    },
    "language_info": {
      "name": "python",
      "version": "3.10.13",
      "mimetype": "text/x-python",
      "codemirror_mode": {
        "name": "ipython",
        "version": 3
      },
      "pygments_lexer": "ipython3",
      "nbconvert_exporter": "python",
      "file_extension": ".py"
    },
    "kaggle": {
      "accelerator": "gpu",
      "dataSources": [],
      "dockerImageVersionId": 30699,
      "isInternetEnabled": true,
      "language": "python",
      "sourceType": "notebook",
      "isGpuEnabled": true
    },
    "colab": {
      "provenance": []
    }
  },
  "nbformat_minor": 0,
  "nbformat": 4,
  "cells": [
    {
      "cell_type": "code",
      "source": [
        "!pip install peft"
      ],
      "metadata": {
        "_uuid": "8f2839f25d086af736a60e9eeb907d3b93b6e0e5",
        "_cell_guid": "b1076dfc-b9ad-4769-8c92-a6c4dae69d19",
        "execution": {
          "iopub.status.busy": "2024-05-15T07:27:45.783581Z",
          "iopub.execute_input": "2024-05-15T07:27:45.783898Z",
          "iopub.status.idle": "2024-05-15T07:27:59.646872Z",
          "shell.execute_reply.started": "2024-05-15T07:27:45.783871Z",
          "shell.execute_reply": "2024-05-15T07:27:59.645746Z"
        },
        "trusted": true,
        "id": "SCwVXUhw2E-x",
        "outputId": "c9ca934f-ab77-457e-f0db-ec79341cf19a"
      },
      "execution_count": null,
      "outputs": [
        {
          "name": "stdout",
          "text": "Collecting peft\n  Downloading peft-0.10.0-py3-none-any.whl.metadata (13 kB)\nRequirement already satisfied: numpy>=1.17 in /opt/conda/lib/python3.10/site-packages (from peft) (1.26.4)\nRequirement already satisfied: packaging>=20.0 in /opt/conda/lib/python3.10/site-packages (from peft) (21.3)\nRequirement already satisfied: psutil in /opt/conda/lib/python3.10/site-packages (from peft) (5.9.3)\nRequirement already satisfied: pyyaml in /opt/conda/lib/python3.10/site-packages (from peft) (6.0.1)\nRequirement already satisfied: torch>=1.13.0 in /opt/conda/lib/python3.10/site-packages (from peft) (2.1.2)\nRequirement already satisfied: transformers in /opt/conda/lib/python3.10/site-packages (from peft) (4.39.3)\nRequirement already satisfied: tqdm in /opt/conda/lib/python3.10/site-packages (from peft) (4.66.1)\nRequirement already satisfied: accelerate>=0.21.0 in /opt/conda/lib/python3.10/site-packages (from peft) (0.29.3)\nRequirement already satisfied: safetensors in /opt/conda/lib/python3.10/site-packages (from peft) (0.4.3)\nRequirement already satisfied: huggingface-hub>=0.17.0 in /opt/conda/lib/python3.10/site-packages (from peft) (0.22.2)\nRequirement already satisfied: filelock in /opt/conda/lib/python3.10/site-packages (from huggingface-hub>=0.17.0->peft) (3.13.1)\nRequirement already satisfied: fsspec>=2023.5.0 in /opt/conda/lib/python3.10/site-packages (from huggingface-hub>=0.17.0->peft) (2024.2.0)\nRequirement already satisfied: requests in /opt/conda/lib/python3.10/site-packages (from huggingface-hub>=0.17.0->peft) (2.31.0)\nRequirement already satisfied: typing-extensions>=3.7.4.3 in /opt/conda/lib/python3.10/site-packages (from huggingface-hub>=0.17.0->peft) (4.9.0)\nRequirement already satisfied: pyparsing!=3.0.5,>=2.0.2 in /opt/conda/lib/python3.10/site-packages (from packaging>=20.0->peft) (3.1.1)\nRequirement already satisfied: sympy in /opt/conda/lib/python3.10/site-packages (from torch>=1.13.0->peft) (1.12)\nRequirement already satisfied: networkx in /opt/conda/lib/python3.10/site-packages (from torch>=1.13.0->peft) (3.2.1)\nRequirement already satisfied: jinja2 in /opt/conda/lib/python3.10/site-packages (from torch>=1.13.0->peft) (3.1.2)\nRequirement already satisfied: regex!=2019.12.17 in /opt/conda/lib/python3.10/site-packages (from transformers->peft) (2023.12.25)\nRequirement already satisfied: tokenizers<0.19,>=0.14 in /opt/conda/lib/python3.10/site-packages (from transformers->peft) (0.15.2)\nRequirement already satisfied: MarkupSafe>=2.0 in /opt/conda/lib/python3.10/site-packages (from jinja2->torch>=1.13.0->peft) (2.1.3)\nRequirement already satisfied: charset-normalizer<4,>=2 in /opt/conda/lib/python3.10/site-packages (from requests->huggingface-hub>=0.17.0->peft) (3.3.2)\nRequirement already satisfied: idna<4,>=2.5 in /opt/conda/lib/python3.10/site-packages (from requests->huggingface-hub>=0.17.0->peft) (3.6)\nRequirement already satisfied: urllib3<3,>=1.21.1 in /opt/conda/lib/python3.10/site-packages (from requests->huggingface-hub>=0.17.0->peft) (1.26.18)\nRequirement already satisfied: certifi>=2017.4.17 in /opt/conda/lib/python3.10/site-packages (from requests->huggingface-hub>=0.17.0->peft) (2024.2.2)\nRequirement already satisfied: mpmath>=0.19 in /opt/conda/lib/python3.10/site-packages (from sympy->torch>=1.13.0->peft) (1.3.0)\nDownloading peft-0.10.0-py3-none-any.whl (199 kB)\n\u001b[2K   \u001b[90m━━━━━━━━━━━━━━━━━━━━━━━━━━━━━━━━━━━━━━━━\u001b[0m \u001b[32m199.1/199.1 kB\u001b[0m \u001b[31m4.1 MB/s\u001b[0m eta \u001b[36m0:00:00\u001b[0m00:01\u001b[0m\n\u001b[?25hInstalling collected packages: peft\nSuccessfully installed peft-0.10.0\n",
          "output_type": "stream"
        }
      ]
    },
    {
      "cell_type": "code",
      "source": [
        "import os\n",
        "import numpy as np\n",
        "import pandas as pd\n",
        "import matplotlib.pyplot as plt\n",
        "\n",
        "import torch\n",
        "from torch.utils.data import Dataset, DataLoader\n",
        "\n",
        "import transformers as T\n",
        "\n",
        "from peft import get_peft_model, LoraConfig"
      ],
      "metadata": {
        "execution": {
          "iopub.status.busy": "2024-05-15T07:27:59.648611Z",
          "iopub.execute_input": "2024-05-15T07:27:59.648905Z",
          "iopub.status.idle": "2024-05-15T07:28:06.218084Z",
          "shell.execute_reply.started": "2024-05-15T07:27:59.648879Z",
          "shell.execute_reply": "2024-05-15T07:28:06.217324Z"
        },
        "trusted": true,
        "id": "9mGHGF2F2E-y"
      },
      "execution_count": null,
      "outputs": []
    },
    {
      "cell_type": "code",
      "source": [
        "#@title  { display-mode: \"form\" }\n",
        "DATA_NAME = \"STS-B\"         #@param [\"RTE\", \"STS-B\"] {type:\"string\"}\n",
        "MODEL_NAME = \"roberta-base\" #@param  {type:\"string\"}\n",
        "PEFT_TYPE = \"full-finetune\"        #@param [\"lora\", \"bitfit\", \"full-finetune\"] {type:\"string\"}\n",
        "RANDOM_SEED = 42            #@param  {type:\"integer\"}"
      ],
      "metadata": {
        "execution": {
          "iopub.status.busy": "2024-05-15T07:28:06.219128Z",
          "iopub.execute_input": "2024-05-15T07:28:06.219539Z",
          "iopub.status.idle": "2024-05-15T07:28:06.224190Z",
          "shell.execute_reply.started": "2024-05-15T07:28:06.219513Z",
          "shell.execute_reply": "2024-05-15T07:28:06.223080Z"
        },
        "trusted": true,
        "id": "tomjxiUJ2E-y"
      },
      "execution_count": null,
      "outputs": []
    },
    {
      "cell_type": "code",
      "source": [
        "# 對資料集產生對應的下載網址\n",
        "filename = f\"https://dl.fbaipublicfiles.com/glue/data/{DATA_NAME}.zip\"\n",
        "\n",
        "# 解壓縮後的檔名\n",
        "entry =  DATA_NAME\n",
        "\n",
        "# splits -> 資料集的分割名稱\n",
        "splits = [\"train\", \"dev\"]\n",
        "\n",
        "# 設定執行環境 (CPU or GPU)\n",
        "device = \"cpu\" if torch.cuda.is_available() else \"cuda\"\n",
        "dataset_dict = dict()"
      ],
      "metadata": {
        "execution": {
          "iopub.status.busy": "2024-05-15T07:28:06.226281Z",
          "iopub.execute_input": "2024-05-15T07:28:06.226551Z",
          "iopub.status.idle": "2024-05-15T07:28:06.262037Z",
          "shell.execute_reply.started": "2024-05-15T07:28:06.226529Z",
          "shell.execute_reply": "2024-05-15T07:28:06.261216Z"
        },
        "trusted": true,
        "id": "2ZvcZyZ82E-z"
      },
      "execution_count": null,
      "outputs": []
    },
    {
      "cell_type": "code",
      "source": [
        "# 確認是否已下載資料\n",
        "if not os.path.isfile(f\"{DATA_NAME}.zip\"):\n",
        "    # 下載資料集\n",
        "    os.system(f\"wget {filename}\")\n",
        "    # 解壓縮\n",
        "    os.system(f\"unzip {DATA_NAME}.zip\")"
      ],
      "metadata": {
        "execution": {
          "iopub.status.busy": "2024-05-15T07:28:06.263108Z",
          "iopub.execute_input": "2024-05-15T07:28:06.263380Z",
          "iopub.status.idle": "2024-05-15T07:28:06.483907Z",
          "shell.execute_reply.started": "2024-05-15T07:28:06.263356Z",
          "shell.execute_reply": "2024-05-15T07:28:06.483078Z"
        },
        "trusted": true,
        "id": "e9VuERK22E-z",
        "outputId": "e4265e25-a93d-45f1-9619-265cc62504aa"
      },
      "execution_count": null,
      "outputs": [
        {
          "name": "stdout",
          "text": "Archive:  STS-B.zip\n   creating: STS-B/\n  inflating: STS-B/LICENSE.txt       \n  inflating: STS-B/dev.tsv           \n   creating: STS-B/original/\n  inflating: STS-B/original/sts-dev.tsv  \n  inflating: STS-B/original/sts-test.tsv  \n  inflating: STS-B/original/sts-train.tsv  \n  inflating: STS-B/readme.txt        \n  inflating: STS-B/test.tsv          \n  inflating: STS-B/train.tsv         \n",
          "output_type": "stream"
        },
        {
          "name": "stderr",
          "text": "--2024-05-15 07:28:06--  https://dl.fbaipublicfiles.com/glue/data/STS-B.zip\nResolving dl.fbaipublicfiles.com (dl.fbaipublicfiles.com)... 3.163.189.108, 3.163.189.51, 3.163.189.96, ...\nConnecting to dl.fbaipublicfiles.com (dl.fbaipublicfiles.com)|3.163.189.108|:443... connected.\nHTTP request sent, awaiting response... 200 OK\nLength: 802872 (784K) [application/zip]\nSaving to: 'STS-B.zip'\n\n     0K .......... .......... .......... .......... ..........  6% 3.86M 0s\n    50K .......... .......... .......... .......... .......... 12% 20.6M 0s\n   100K .......... .......... .......... .......... .......... 19% 13.1M 0s\n   150K .......... .......... .......... .......... .......... 25% 25.6M 0s\n   200K .......... .......... .......... .......... .......... 31% 22.5M 0s\n   250K .......... .......... .......... .......... .......... 38% 26.2M 0s\n   300K .......... .......... .......... .......... .......... 44% 23.8M 0s\n   350K .......... .......... .......... .......... .......... 51% 49.5M 0s\n   400K .......... .......... .......... .......... .......... 57% 40.4M 0s\n   450K .......... .......... .......... .......... .......... 63% 49.7M 0s\n   500K .......... .......... .......... .......... .......... 70% 54.9M 0s\n   550K .......... .......... .......... .......... .......... 76% 55.6M 0s\n   600K .......... .......... .......... .......... .......... 82% 56.4M 0s\n   650K .......... .......... .......... .......... .......... 89% 54.1M 0s\n   700K .......... .......... .......... .......... .......... 95% 64.0M 0s\n   750K .......... .......... .......... ....                 100% 98.6M=0.03s\n\n2024-05-15 07:28:06 (22.2 MB/s) - 'STS-B.zip' saved [802872/802872]\n\n",
          "output_type": "stream"
        }
      ]
    },
    {
      "cell_type": "code",
      "source": [
        "# 讀取所有 splits 資料\n",
        "for split_type in splits:\n",
        "    dataset_dict[split_type] = pd.read_csv(\n",
        "        os.path.join(entry, (split_type + \".tsv\")),\n",
        "        sep=\"\\t\", on_bad_lines='skip'\n",
        "    )"
      ],
      "metadata": {
        "execution": {
          "iopub.status.busy": "2024-05-15T07:28:06.484980Z",
          "iopub.execute_input": "2024-05-15T07:28:06.485279Z",
          "iopub.status.idle": "2024-05-15T07:28:06.530309Z",
          "shell.execute_reply.started": "2024-05-15T07:28:06.485255Z",
          "shell.execute_reply": "2024-05-15T07:28:06.529281Z"
        },
        "trusted": true,
        "id": "BhCr02EQ2E-z"
      },
      "execution_count": null,
      "outputs": []
    },
    {
      "cell_type": "code",
      "source": [
        "class CustomedDataset(Dataset):\n",
        "\n",
        "    def __init__(self, encodings, labels):\n",
        "        self.encodings = encodings\n",
        "        self.labels = labels\n",
        "\n",
        "    def __getitem__(self, idx):\n",
        "        item = { key: torch.tensor(val[idx]) for key, val in self.encodings.items() }\n",
        "        item['labels'] = torch.tensor(self.labels[idx])\n",
        "        return item\n",
        "\n",
        "    def __len__(self):\n",
        "        return len(self.labels)\n",
        "\n",
        "def process_dataset(df, tokenizer):\n",
        "\n",
        "    df = df.dropna(ignore_index=True)\n",
        "\n",
        "    texts = []\n",
        "    labels = None\n",
        "\n",
        "    for s1, s2 in zip( df[\"sentence1\"], df[\"sentence2\"] ):\n",
        "        s1 = s1.strip()\n",
        "        s2 = s2.strip()\n",
        "        texts.append(f\"<s> {s1} </s></s> {s2} </s>\")\n",
        "\n",
        "\n",
        "    labels = df[\"score\"]\n",
        "\n",
        "    encodings = tokenizer(\n",
        "        texts, truncation=True, padding=True, add_special_tokens=False\n",
        "    )\n",
        "    return {\n",
        "        \"encodings\": encodings,\n",
        "        \"labels\": labels.astype(np.float32)\n",
        "    }"
      ],
      "metadata": {
        "execution": {
          "iopub.status.busy": "2024-05-15T07:28:06.531602Z",
          "iopub.execute_input": "2024-05-15T07:28:06.531889Z",
          "iopub.status.idle": "2024-05-15T07:28:06.541891Z",
          "shell.execute_reply.started": "2024-05-15T07:28:06.531864Z",
          "shell.execute_reply": "2024-05-15T07:28:06.540947Z"
        },
        "trusted": true,
        "id": "81Ff_Ma82E-z"
      },
      "execution_count": null,
      "outputs": []
    },
    {
      "cell_type": "code",
      "source": [
        "num_labels = 1 # 定義不同資料集的label數量(1 -> regression -> MSELoss)\n",
        "\n",
        "# 讀入 huggingface 的 model 與 tokenizer\n",
        "model = T.AutoModelForSequenceClassification.from_pretrained( MODEL_NAME, num_labels=num_labels )\n",
        "tokenizer = T.AutoTokenizer.from_pretrained( MODEL_NAME )"
      ],
      "metadata": {
        "execution": {
          "iopub.status.busy": "2024-05-15T07:28:06.542990Z",
          "iopub.execute_input": "2024-05-15T07:28:06.543282Z",
          "iopub.status.idle": "2024-05-15T07:28:10.453442Z",
          "shell.execute_reply.started": "2024-05-15T07:28:06.543259Z",
          "shell.execute_reply": "2024-05-15T07:28:10.452614Z"
        },
        "trusted": true,
        "colab": {
          "referenced_widgets": [
            "58e5bc9da80a467a980e658f266b5173",
            "12821c5cf83a4a3a966224b5ac5c02a3",
            "eb72b7d02da64548abda2ab4ee79e3a2",
            "1d20a79251744e299556714c27421fa3",
            "f7cc33044fbd4bbdbd8c70d26502dc46",
            "0500a82eecc7409282b6de91331b3e2a"
          ]
        },
        "id": "NhGgB_WO2E-z",
        "outputId": "9081d525-a361-4e3a-abb5-f956a7a0917c"
      },
      "execution_count": null,
      "outputs": [
        {
          "output_type": "display_data",
          "data": {
            "text/plain": "config.json:   0%|          | 0.00/481 [00:00<?, ?B/s]",
            "application/vnd.jupyter.widget-view+json": {
              "version_major": 2,
              "version_minor": 0,
              "model_id": "58e5bc9da80a467a980e658f266b5173"
            }
          },
          "metadata": {}
        },
        {
          "output_type": "display_data",
          "data": {
            "text/plain": "model.safetensors:   0%|          | 0.00/499M [00:00<?, ?B/s]",
            "application/vnd.jupyter.widget-view+json": {
              "version_major": 2,
              "version_minor": 0,
              "model_id": "12821c5cf83a4a3a966224b5ac5c02a3"
            }
          },
          "metadata": {}
        },
        {
          "name": "stderr",
          "text": "Some weights of RobertaForSequenceClassification were not initialized from the model checkpoint at roberta-base and are newly initialized: ['classifier.dense.bias', 'classifier.dense.weight', 'classifier.out_proj.bias', 'classifier.out_proj.weight']\nYou should probably TRAIN this model on a down-stream task to be able to use it for predictions and inference.\n",
          "output_type": "stream"
        },
        {
          "output_type": "display_data",
          "data": {
            "text/plain": "tokenizer_config.json:   0%|          | 0.00/25.0 [00:00<?, ?B/s]",
            "application/vnd.jupyter.widget-view+json": {
              "version_major": 2,
              "version_minor": 0,
              "model_id": "eb72b7d02da64548abda2ab4ee79e3a2"
            }
          },
          "metadata": {}
        },
        {
          "output_type": "display_data",
          "data": {
            "text/plain": "vocab.json:   0%|          | 0.00/899k [00:00<?, ?B/s]",
            "application/vnd.jupyter.widget-view+json": {
              "version_major": 2,
              "version_minor": 0,
              "model_id": "1d20a79251744e299556714c27421fa3"
            }
          },
          "metadata": {}
        },
        {
          "output_type": "display_data",
          "data": {
            "text/plain": "merges.txt:   0%|          | 0.00/456k [00:00<?, ?B/s]",
            "application/vnd.jupyter.widget-view+json": {
              "version_major": 2,
              "version_minor": 0,
              "model_id": "f7cc33044fbd4bbdbd8c70d26502dc46"
            }
          },
          "metadata": {}
        },
        {
          "output_type": "display_data",
          "data": {
            "text/plain": "tokenizer.json:   0%|          | 0.00/1.36M [00:00<?, ?B/s]",
            "application/vnd.jupyter.widget-view+json": {
              "version_major": 2,
              "version_minor": 0,
              "model_id": "0500a82eecc7409282b6de91331b3e2a"
            }
          },
          "metadata": {}
        }
      ]
    },
    {
      "cell_type": "code",
      "source": [
        "# 輸出資料集數量\n",
        "print(\"training size:  \", len(dataset_dict[\"train\"]))\n",
        "print(\"evaluation size:\", len(dataset_dict[\"dev\"]))"
      ],
      "metadata": {
        "execution": {
          "iopub.status.busy": "2024-05-15T07:28:10.454756Z",
          "iopub.execute_input": "2024-05-15T07:28:10.455215Z",
          "iopub.status.idle": "2024-05-15T07:28:10.460947Z",
          "shell.execute_reply.started": "2024-05-15T07:28:10.455179Z",
          "shell.execute_reply": "2024-05-15T07:28:10.459982Z"
        },
        "trusted": true,
        "id": "iVdKXxMT2E-z",
        "outputId": "5fe45317-8138-4e02-c8ef-15f3bdf7cc1d"
      },
      "execution_count": null,
      "outputs": [
        {
          "name": "stdout",
          "text": "training size:   5706\nevaluation size: 1465\n",
          "output_type": "stream"
        }
      ]
    },
    {
      "cell_type": "code",
      "source": [
        "# 從 dataframe 轉換到 torch dataset\n",
        "train_dataset = CustomedDataset( **process_dataset(dataset_dict[\"train\"], tokenizer) )\n",
        "dev_dataset = CustomedDataset( **process_dataset(dataset_dict[\"dev\"], tokenizer) )"
      ],
      "metadata": {
        "execution": {
          "iopub.status.busy": "2024-05-15T07:28:10.465012Z",
          "iopub.execute_input": "2024-05-15T07:28:10.465649Z",
          "iopub.status.idle": "2024-05-15T07:28:11.278830Z",
          "shell.execute_reply.started": "2024-05-15T07:28:10.465615Z",
          "shell.execute_reply": "2024-05-15T07:28:11.278113Z"
        },
        "trusted": true,
        "id": "-BSDrVFe2E-z"
      },
      "execution_count": null,
      "outputs": []
    },
    {
      "cell_type": "code",
      "source": [
        "from sklearn.metrics import accuracy_score\n",
        "from scipy.stats import spearmanr\n",
        "\n",
        "def compute_metrics(pred):\n",
        "    # 請參考GLUE benchmark的官方網頁，使用和資料集對應的evaluation matrics\n",
        "\n",
        "    labels = pred.label_ids\n",
        "    preds = None\n",
        "\n",
        "    if DATA_NAME != \"STS-B\":\n",
        "        preds = pred.predictions.argmax(-1)\n",
        "    else:\n",
        "        preds = pred.predictions[:, 0]\n",
        "\n",
        "    return {\"accuracy\": accuracy_score(labels, preds)} if DATA_NAME != \"STS-B\" else {\"pearson\": spearmanr(labels, preds).statistic}\n"
      ],
      "metadata": {
        "execution": {
          "iopub.status.busy": "2024-05-15T07:28:11.279849Z",
          "iopub.execute_input": "2024-05-15T07:28:11.280188Z",
          "iopub.status.idle": "2024-05-15T07:28:12.013852Z",
          "shell.execute_reply.started": "2024-05-15T07:28:11.280160Z",
          "shell.execute_reply": "2024-05-15T07:28:12.013103Z"
        },
        "trusted": true,
        "id": "YIdCv8132E-z"
      },
      "execution_count": null,
      "outputs": []
    },
    {
      "cell_type": "code",
      "source": [
        "#@title  { display-mode: \"form\" }\n",
        "lora_rank       = 8      #@param  {type:\"integer\"}\n",
        "lora_alpha      = 32     #@param  {type:\"number\"}\n",
        "lora_dropout    = 0.1    #@param  {type:\"number\"}"
      ],
      "metadata": {
        "execution": {
          "iopub.status.busy": "2024-05-15T07:28:12.014809Z",
          "iopub.execute_input": "2024-05-15T07:28:12.015068Z",
          "iopub.status.idle": "2024-05-15T07:28:12.019405Z",
          "shell.execute_reply.started": "2024-05-15T07:28:12.015035Z",
          "shell.execute_reply": "2024-05-15T07:28:12.018428Z"
        },
        "trusted": true,
        "id": "wQJd3aM72E-0"
      },
      "execution_count": null,
      "outputs": []
    },
    {
      "cell_type": "code",
      "source": [
        "lora_config = {\n",
        "    \"r\": lora_rank,\n",
        "    \"lora_alpha\": lora_alpha,\n",
        "    \"lora_dropout\": lora_dropout\n",
        "}"
      ],
      "metadata": {
        "execution": {
          "iopub.status.busy": "2024-05-15T07:28:12.020619Z",
          "iopub.execute_input": "2024-05-15T07:28:12.020863Z",
          "iopub.status.idle": "2024-05-15T07:28:12.029717Z",
          "shell.execute_reply.started": "2024-05-15T07:28:12.020842Z",
          "shell.execute_reply": "2024-05-15T07:28:12.028878Z"
        },
        "trusted": true,
        "id": "g09f8EzU2E-0"
      },
      "execution_count": null,
      "outputs": []
    },
    {
      "cell_type": "code",
      "source": [
        "def show_trainable_ratio(model):\n",
        "    trainbale_params = model.num_parameters(only_trainable=True)\n",
        "    all_params = model.num_parameters(only_trainable=False)\n",
        "    return f\"trainable params: {trainbale_params:,} || all params: {all_params:,} || trainable%: {trainbale_params/all_params*100:.6f}\""
      ],
      "metadata": {
        "execution": {
          "iopub.status.busy": "2024-05-15T07:28:12.030608Z",
          "iopub.execute_input": "2024-05-15T07:28:12.030843Z",
          "iopub.status.idle": "2024-05-15T07:28:12.039301Z",
          "shell.execute_reply.started": "2024-05-15T07:28:12.030822Z",
          "shell.execute_reply": "2024-05-15T07:28:12.038521Z"
        },
        "trusted": true,
        "id": "O0E1kmYg2E-0"
      },
      "execution_count": null,
      "outputs": []
    },
    {
      "cell_type": "code",
      "source": [
        "if PEFT_TYPE == \"lora\":\n",
        "    # LoRA -> 採用 peft 套件的設定\n",
        "    model = get_peft_model(model, LoraConfig(**lora_config))\n",
        "\n",
        "elif PEFT_TYPE == \"bitfit\":\n",
        "    # 凍結非 bias 的參數\n",
        "    for name, param in model.named_parameters():\n",
        "        if \"bias\" not in name:\n",
        "            param.requires_grad = False\n",
        "else:\n",
        "    # full finetune 不用做任何改動\n",
        "    pass\n",
        "\n",
        "print(show_trainable_ratio(model))"
      ],
      "metadata": {
        "execution": {
          "iopub.status.busy": "2024-05-15T07:28:12.040283Z",
          "iopub.execute_input": "2024-05-15T07:28:12.040516Z",
          "iopub.status.idle": "2024-05-15T07:28:12.052199Z",
          "shell.execute_reply.started": "2024-05-15T07:28:12.040495Z",
          "shell.execute_reply": "2024-05-15T07:28:12.051209Z"
        },
        "trusted": true,
        "id": "QL74sY6r2E-0",
        "outputId": "5e64c20c-2920-45ba-bf08-7fc82bc257d1"
      },
      "execution_count": null,
      "outputs": [
        {
          "name": "stdout",
          "text": "trainable params: 124,646,401 || all params: 124,646,401 || trainable%: 100.000000\n",
          "output_type": "stream"
        }
      ]
    },
    {
      "cell_type": "code",
      "source": [
        "#@title  { display-mode: \"form\" }\n",
        "num_train_epochs                = 10         #@param  {type:\"integer\"}\n",
        "learning_rate                   = 2e-5      #@param  {type:\"number\"}\n",
        "per_device_train_batch_size     = 16        #@param  {type:\"integer\"}\n",
        "per_device_eval_batch_size      = 16        #@param  {type:\"integer\"}\n",
        "gradient_accumulation_steps     = 1         #@param  {type:\"integer\"}\n",
        "warmup_steps                    = 200      #@param  {type:\"integer\"}\n",
        "weight_decay                    = 0.1      #@param  {type:\"number\"}\n",
        "evaluation_strategy             = \"steps\"   #@param [\"steps\", \"no\", \"epoch\"] {type:\"string\"}\n",
        "save_strategy                   = \"steps\"   #@param [\"steps\", \"no\", \"epoch\"] {type:\"string\"}\n",
        "save_steps                      = 150      #@param  {type:\"integer\"}\n",
        "eval_steps                      = 150      #@param  {type:\"integer\"}\n",
        "adam_epsilon                    = 1e-6      #@param  {type:\"number\"}\n",
        "save_total_limit                = 2         #@param  {type:\"integer\"}\n",
        "logging_steps                   = 150      #@param  {type:\"integer\"}"
      ],
      "metadata": {
        "execution": {
          "iopub.status.busy": "2024-05-15T07:28:12.053187Z",
          "iopub.execute_input": "2024-05-15T07:28:12.053420Z",
          "iopub.status.idle": "2024-05-15T07:28:12.062720Z",
          "shell.execute_reply.started": "2024-05-15T07:28:12.053400Z",
          "shell.execute_reply": "2024-05-15T07:28:12.061970Z"
        },
        "trusted": true,
        "id": "ezx9PW2N2E-0"
      },
      "execution_count": null,
      "outputs": []
    },
    {
      "cell_type": "code",
      "source": [
        "training_args = {\n",
        "    \"output_dir\"                    :   DATA_NAME,                  # 設定輸出位置\n",
        "    \"seed\"                          :   RANDOM_SEED,                # 設定亂數種子\n",
        "    \"report_to\"                     :   \"none\",\n",
        "    \"label_names\"                   :   [\"labels\"],\n",
        "    \"num_train_epochs\"              :   num_train_epochs,\n",
        "    \"learning_rate\"                 :   learning_rate,\n",
        "    \"per_device_train_batch_size\"   :   per_device_train_batch_size,\n",
        "    \"per_device_eval_batch_size\"    :   per_device_eval_batch_size,\n",
        "    \"gradient_accumulation_steps\"   :   gradient_accumulation_steps,\n",
        "    \"warmup_steps\"                  :   warmup_steps,\n",
        "    \"weight_decay\"                  :   weight_decay,\n",
        "    \"adam_epsilon\"                  :   adam_epsilon,\n",
        "    \"evaluation_strategy\"           :   evaluation_strategy,\n",
        "    \"save_strategy\"                 :   save_strategy,\n",
        "    \"save_steps\"                    :   save_steps,\n",
        "    \"eval_steps\"                    :   eval_steps,\n",
        "    \"save_total_limit\"              :   save_total_limit,\n",
        "    \"logging_steps\"                 :   logging_steps\n",
        "}"
      ],
      "metadata": {
        "execution": {
          "iopub.status.busy": "2024-05-15T07:28:12.063685Z",
          "iopub.execute_input": "2024-05-15T07:28:12.063931Z",
          "iopub.status.idle": "2024-05-15T07:28:12.074814Z",
          "shell.execute_reply.started": "2024-05-15T07:28:12.063910Z",
          "shell.execute_reply": "2024-05-15T07:28:12.074102Z"
        },
        "trusted": true,
        "id": "oYu3LLwr2E-0"
      },
      "execution_count": null,
      "outputs": []
    },
    {
      "cell_type": "code",
      "source": [
        "trainer = T.Trainer(\n",
        "    model=model,                                        # 🤗 的模型\n",
        "    args=T.TrainingArguments(**training_args),          # Trainer 所需要的引數\n",
        "    train_dataset=train_dataset,                        # 訓練集 (注意是 PyTorch Dataset)\n",
        "    eval_dataset=dev_dataset,                           # 驗證集 (注意是 PyTorch Dataset)，可使 Trainer 在進行訓練時也進行驗證\n",
        "    compute_metrics=compute_metrics,                    # 自定的評估的指標\n",
        ")\n",
        "\n",
        "# 指定使用 1 個 GPU 進行訓練\n",
        "trainer.args._n_gpu=1\n",
        "\n",
        "# 開始進行模型訓練\n",
        "trainer.train()"
      ],
      "metadata": {
        "execution": {
          "iopub.status.busy": "2024-05-15T07:28:12.075915Z",
          "iopub.execute_input": "2024-05-15T07:28:12.076176Z",
          "iopub.status.idle": "2024-05-15T08:18:06.221874Z",
          "shell.execute_reply.started": "2024-05-15T07:28:12.076155Z",
          "shell.execute_reply": "2024-05-15T08:18:06.220940Z"
        },
        "trusted": true,
        "id": "_HtfmQUs2E-0",
        "outputId": "428ddff8-aa2a-4d5d-9509-7530107a7473"
      },
      "execution_count": null,
      "outputs": [
        {
          "name": "stderr",
          "text": "2024-05-15 07:28:13.714380: E external/local_xla/xla/stream_executor/cuda/cuda_dnn.cc:9261] Unable to register cuDNN factory: Attempting to register factory for plugin cuDNN when one has already been registered\n2024-05-15 07:28:13.714480: E external/local_xla/xla/stream_executor/cuda/cuda_fft.cc:607] Unable to register cuFFT factory: Attempting to register factory for plugin cuFFT when one has already been registered\n2024-05-15 07:28:13.840599: E external/local_xla/xla/stream_executor/cuda/cuda_blas.cc:1515] Unable to register cuBLAS factory: Attempting to register factory for plugin cuBLAS when one has already been registered\n/opt/conda/lib/python3.10/site-packages/accelerate/accelerator.py:436: FutureWarning: Passing the following arguments to `Accelerator` is deprecated and will be removed in version 1.0 of Accelerate: dict_keys(['dispatch_batches', 'split_batches', 'even_batches', 'use_seedable_sampler']). Please pass an `accelerate.DataLoaderConfiguration` instead: \ndataloader_config = DataLoaderConfiguration(dispatch_batches=None, split_batches=False, even_batches=True, use_seedable_sampler=True)\n  warnings.warn(\n",
          "output_type": "stream"
        },
        {
          "output_type": "display_data",
          "data": {
            "text/plain": "<IPython.core.display.HTML object>",
            "text/html": "\n    <div>\n      \n      <progress value='3570' max='3570' style='width:300px; height:20px; vertical-align: middle;'></progress>\n      [3570/3570 49:41, Epoch 10/10]\n    </div>\n    <table border=\"1\" class=\"dataframe\">\n  <thead>\n <tr style=\"text-align: left;\">\n      <th>Step</th>\n      <th>Training Loss</th>\n      <th>Validation Loss</th>\n      <th>Pearson</th>\n    </tr>\n  </thead>\n  <tbody>\n    <tr>\n      <td>150</td>\n      <td>4.411900</td>\n      <td>0.965465</td>\n      <td>0.789221</td>\n    </tr>\n    <tr>\n      <td>300</td>\n      <td>0.788100</td>\n      <td>0.661970</td>\n      <td>0.872731</td>\n    </tr>\n    <tr>\n      <td>450</td>\n      <td>0.529900</td>\n      <td>0.703243</td>\n      <td>0.891105</td>\n    </tr>\n    <tr>\n      <td>600</td>\n      <td>0.489200</td>\n      <td>0.528469</td>\n      <td>0.890592</td>\n    </tr>\n    <tr>\n      <td>750</td>\n      <td>0.419700</td>\n      <td>0.528584</td>\n      <td>0.895045</td>\n    </tr>\n    <tr>\n      <td>900</td>\n      <td>0.296800</td>\n      <td>0.692268</td>\n      <td>0.900986</td>\n    </tr>\n    <tr>\n      <td>1050</td>\n      <td>0.302700</td>\n      <td>0.452920</td>\n      <td>0.898377</td>\n    </tr>\n    <tr>\n      <td>1200</td>\n      <td>0.234100</td>\n      <td>0.425704</td>\n      <td>0.905187</td>\n    </tr>\n    <tr>\n      <td>1350</td>\n      <td>0.216100</td>\n      <td>0.455258</td>\n      <td>0.899627</td>\n    </tr>\n    <tr>\n      <td>1500</td>\n      <td>0.182900</td>\n      <td>0.443159</td>\n      <td>0.903503</td>\n    </tr>\n    <tr>\n      <td>1650</td>\n      <td>0.178400</td>\n      <td>0.452176</td>\n      <td>0.902738</td>\n    </tr>\n    <tr>\n      <td>1800</td>\n      <td>0.158600</td>\n      <td>0.419274</td>\n      <td>0.904040</td>\n    </tr>\n    <tr>\n      <td>1950</td>\n      <td>0.140500</td>\n      <td>0.415174</td>\n      <td>0.906859</td>\n    </tr>\n    <tr>\n      <td>2100</td>\n      <td>0.139300</td>\n      <td>0.416560</td>\n      <td>0.907922</td>\n    </tr>\n    <tr>\n      <td>2250</td>\n      <td>0.119200</td>\n      <td>0.441023</td>\n      <td>0.907605</td>\n    </tr>\n    <tr>\n      <td>2400</td>\n      <td>0.103900</td>\n      <td>0.449017</td>\n      <td>0.905425</td>\n    </tr>\n    <tr>\n      <td>2550</td>\n      <td>0.106400</td>\n      <td>0.419330</td>\n      <td>0.906901</td>\n    </tr>\n    <tr>\n      <td>2700</td>\n      <td>0.089900</td>\n      <td>0.416012</td>\n      <td>0.905899</td>\n    </tr>\n    <tr>\n      <td>2850</td>\n      <td>0.094000</td>\n      <td>0.433201</td>\n      <td>0.906475</td>\n    </tr>\n    <tr>\n      <td>3000</td>\n      <td>0.083300</td>\n      <td>0.424613</td>\n      <td>0.906742</td>\n    </tr>\n    <tr>\n      <td>3150</td>\n      <td>0.079300</td>\n      <td>0.453216</td>\n      <td>0.905665</td>\n    </tr>\n    <tr>\n      <td>3300</td>\n      <td>0.076300</td>\n      <td>0.432045</td>\n      <td>0.906484</td>\n    </tr>\n    <tr>\n      <td>3450</td>\n      <td>0.071500</td>\n      <td>0.418188</td>\n      <td>0.906895</td>\n    </tr>\n  </tbody>\n</table><p>"
          },
          "metadata": {}
        },
        {
          "execution_count": 18,
          "output_type": "execute_result",
          "data": {
            "text/plain": "TrainOutput(global_step=3570, training_loss=0.3936915181264156, metrics={'train_runtime': 2983.4131, 'train_samples_per_second': 19.116, 'train_steps_per_second': 1.197, 'total_flos': 1.339321399204986e+16, 'train_loss': 0.3936915181264156, 'epoch': 10.0})"
          },
          "metadata": {}
        }
      ]
    },
    {
      "cell_type": "code",
      "source": [
        "del model, tokenizer\n",
        "torch.cuda.empty_cache()"
      ],
      "metadata": {
        "execution": {
          "iopub.status.busy": "2024-05-15T08:43:13.520189Z",
          "iopub.execute_input": "2024-05-15T08:43:13.520552Z",
          "iopub.status.idle": "2024-05-15T08:43:13.792656Z",
          "shell.execute_reply.started": "2024-05-15T08:43:13.520518Z",
          "shell.execute_reply": "2024-05-15T08:43:13.791512Z"
        },
        "trusted": true,
        "id": "XIE6E30R2E-1"
      },
      "execution_count": null,
      "outputs": []
    }
  ]
}